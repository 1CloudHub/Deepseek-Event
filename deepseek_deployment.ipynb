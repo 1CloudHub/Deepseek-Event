{
 "cells": [
  {
   "cell_type": "markdown",
   "id": "bc40d045-d737-4a5c-8ea0-d068bbce9e96",
   "metadata": {},
   "source": [
    "This below code snippet imports the necessary libraries and sets up the execution role for Amazon SageMaker to interact with Hugging Face models. It performs the following tasks:\n",
    "\n",
    "1. **Imports**:\n",
    "   - `json`: To handle JSON data.\n",
    "   - `sagemaker`: The SageMaker Python SDK to interact with AWS SageMaker services.\n",
    "   - `boto3`: AWS SDK for Python, used for interacting with AWS services like IAM (Identity and Access Management).\n",
    "   - `HuggingFaceModel`: A class from SageMaker to deploy Hugging Face models.\n",
    "   - `get_huggingface_llm_image_uri`: A helper function to retrieve the appropriate Docker image URI for Hugging Face models.\n",
    "\n",
    "2. **Execution Role Retrieval**:\n",
    "   - The code first attempts to get the SageMaker execution role using `sagemaker.get_execution_role()`, which allows SageMaker to access required resources.\n",
    "   - If the role cannot be retrieved (e.g., when the script is run outside of SageMaker), it uses `boto3` to query IAM and fetch the `Arn` (Amazon Resource Name) for the `sagemaker_execution_role`.\n",
    "\n",
    "This ensures that the script can dynamically determine the required IAM role, whether running within a SageMaker notebook instance or an external environment.\n"
   ]
  },
  {
   "cell_type": "code",
   "execution_count": 317,
   "id": "51621f06-c221-4a64-a399-c06fe8983df2",
   "metadata": {},
   "outputs": [
    {
     "name": "stdout",
     "output_type": "stream",
     "text": [
      "Requirement already satisfied: requests_aws4auth in /home/ec2-user/anaconda3/envs/python3/lib/python3.10/site-packages (1.3.1)\n",
      "Requirement already satisfied: requests in /home/ec2-user/anaconda3/envs/python3/lib/python3.10/site-packages (from requests_aws4auth) (2.32.3)\n",
      "Requirement already satisfied: charset_normalizer<4,>=2 in /home/ec2-user/anaconda3/envs/python3/lib/python3.10/site-packages (from requests->requests_aws4auth) (3.4.1)\n",
      "Requirement already satisfied: idna<4,>=2.5 in /home/ec2-user/anaconda3/envs/python3/lib/python3.10/site-packages (from requests->requests_aws4auth) (3.10)\n",
      "Requirement already satisfied: urllib3<3,>=1.21.1 in /home/ec2-user/anaconda3/envs/python3/lib/python3.10/site-packages (from requests->requests_aws4auth) (2.3.0)\n",
      "Requirement already satisfied: certifi>=2017.4.17 in /home/ec2-user/anaconda3/envs/python3/lib/python3.10/site-packages (from requests->requests_aws4auth) (2025.1.31)\n",
      "Note: you may need to restart the kernel to use updated packages.\n"
     ]
    }
   ],
   "source": [
    "pip install requests_aws4auth"
   ]
  },
  {
   "cell_type": "code",
   "execution_count": 318,
   "id": "0eb20e8a-a89f-481f-adb3-3f64b29187dc",
   "metadata": {},
   "outputs": [
    {
     "name": "stdout",
     "output_type": "stream",
     "text": [
      "Requirement already satisfied: opensearch-py in /home/ec2-user/anaconda3/envs/python3/lib/python3.10/site-packages (2.8.0)\n",
      "Requirement already satisfied: urllib3!=2.2.0,!=2.2.1,<3,>=1.26.19 in /home/ec2-user/anaconda3/envs/python3/lib/python3.10/site-packages (from opensearch-py) (2.3.0)\n",
      "Requirement already satisfied: requests<3.0.0,>=2.32.0 in /home/ec2-user/anaconda3/envs/python3/lib/python3.10/site-packages (from opensearch-py) (2.32.3)\n",
      "Requirement already satisfied: python-dateutil in /home/ec2-user/anaconda3/envs/python3/lib/python3.10/site-packages (from opensearch-py) (2.9.0.post0)\n",
      "Requirement already satisfied: certifi>=2024.07.04 in /home/ec2-user/anaconda3/envs/python3/lib/python3.10/site-packages (from opensearch-py) (2025.1.31)\n",
      "Requirement already satisfied: Events in /home/ec2-user/anaconda3/envs/python3/lib/python3.10/site-packages (from opensearch-py) (0.5)\n",
      "Requirement already satisfied: charset_normalizer<4,>=2 in /home/ec2-user/anaconda3/envs/python3/lib/python3.10/site-packages (from requests<3.0.0,>=2.32.0->opensearch-py) (3.4.1)\n",
      "Requirement already satisfied: idna<4,>=2.5 in /home/ec2-user/anaconda3/envs/python3/lib/python3.10/site-packages (from requests<3.0.0,>=2.32.0->opensearch-py) (3.10)\n",
      "Requirement already satisfied: six>=1.5 in /home/ec2-user/anaconda3/envs/python3/lib/python3.10/site-packages (from python-dateutil->opensearch-py) (1.17.0)\n",
      "Note: you may need to restart the kernel to use updated packages.\n"
     ]
    }
   ],
   "source": [
    "pip install opensearch-py"
   ]
  },
  {
   "cell_type": "code",
   "execution_count": 319,
   "id": "778da920-9ac8-4543-a85c-5beb5587449d",
   "metadata": {},
   "outputs": [],
   "source": [
    "import json\n",
    "import sagemaker\n",
    "import boto3\n",
    "from sagemaker.huggingface import HuggingFaceModel, get_huggingface_llm_image_uri"
   ]
  },
  {
   "cell_type": "markdown",
   "id": "3b7d75d9-c1b2-4196-9b93-89bbcf9d9022",
   "metadata": {},
   "source": [
    "This code snippet attempts to retrieve the Amazon SageMaker execution role ARN using two methods:\n",
    "\n",
    "Primary Method: It first calls sagemaker.get_execution_role(), which is designed to fetch the execution role when running within a SageMaker environment. However, this function may raise a ValueError if executed outside of SageMaker-managed environments, such as local machines or non-SageMaker AWS services. \n",
    "\n",
    "Fallback Method: If a ValueError occurs, the code initializes a Boto3 IAM client and retrieves the ARN of a role named \"sagemaker_execution_role\" using iam.get_role(). This approach assumes that a role with this specific name exists in the AWS account. \n",
    "\n",
    "This dual-method strategy ensures that the appropriate SageMaker execution role ARN is obtained, regardless of the execution environment."
   ]
  },
  {
   "cell_type": "code",
   "execution_count": 320,
   "id": "ed4f2598-9093-4b04-af6e-b6be4f25222a",
   "metadata": {},
   "outputs": [],
   "source": [
    "try:\n",
    "    service_role = sagemaker.get_execution_role()\n",
    "except ValueError:\n",
    "    iam = boto3.client(\"iam\")\n",
    "    service_role = iam.get_role(RoleName=\"sagemaker_execution_role\")[\"Role\"][\"Arn\"]"
   ]
  },
  {
   "cell_type": "code",
   "execution_count": 321,
   "id": "93f8b12c-287e-4743-b6fb-090d2eeebdc8",
   "metadata": {},
   "outputs": [
    {
     "data": {
      "text/plain": [
       "'arn:aws:iam::675379425271:role/service-role/AmazonSageMaker-ExecutionRole-20231211T123709'"
      ]
     },
     "execution_count": 321,
     "metadata": {},
     "output_type": "execute_result"
    }
   ],
   "source": [
    "service_role"
   ]
  },
  {
   "cell_type": "markdown",
   "id": "2af8bbb4-43c1-4f25-859c-b3ea3e347d0a",
   "metadata": {},
   "source": [
    "This snippet generates random id for maintaining unique resource names"
   ]
  },
  {
   "cell_type": "code",
   "execution_count": 322,
   "id": "2ab8c8a1-1219-4064-9b64-24c3698e3bcd",
   "metadata": {},
   "outputs": [
    {
     "data": {
      "text/plain": [
       "'uvkkpbq2tv'"
      ]
     },
     "execution_count": 322,
     "metadata": {},
     "output_type": "execute_result"
    }
   ],
   "source": [
    "import random\n",
    "import string\n",
    "\n",
    "generated_uuid = ''.join(random.choices(string.ascii_lowercase + string.digits, k=10))\n",
    "generated_uuid\n"
   ]
  },
  {
   "cell_type": "markdown",
   "id": "63b53dc9-50b5-4d76-99b4-afcc14fa1fdd",
   "metadata": {},
   "source": [
    "This snippet attaches necessary policies to an IAM role for enabling SageMaker to access AWS services like OpenSearch and Amazon Bedrock.\n",
    "\n",
    "1. Create Inline Policy: It defines a custom inline policy with permissions to manage IAM, OpenSearch, Amazon OpenSearch Serverless, and KMS keys. This policy allows full access to these services.\n",
    "\n",
    "2. Attach Inline Policy: The inline policy is attached to the specified IAM role (`service_role_name`) using `iam_client.put_role_policy()`.\n",
    "\n",
    "3. Attach Managed Policy: The managed policy `AmazonBedrockFullAccess` is attached to the IAM role using `iam_client.attach_role_policy()`.\n",
    "\n",
    "This setup ensures the role has the necessary permissions to interact with SageMaker, OpenSearch, and Amazon Bedrock services."
   ]
  },
  {
   "cell_type": "code",
   "execution_count": 323,
   "id": "50ef348d-75e9-40dc-9090-f7e6deeea415",
   "metadata": {},
   "outputs": [
    {
     "data": {
      "text/plain": [
       "{'ResponseMetadata': {'RequestId': '8f2c65ca-1715-479a-8065-25d68238ed00',\n",
       "  'HTTPStatusCode': 200,\n",
       "  'HTTPHeaders': {'date': 'Tue, 04 Mar 2025 13:47:13 GMT',\n",
       "   'x-amzn-requestid': '8f2c65ca-1715-479a-8065-25d68238ed00',\n",
       "   'content-type': 'text/xml',\n",
       "   'content-length': '212'},\n",
       "  'RetryAttempts': 0}}"
      ]
     },
     "execution_count": 323,
     "metadata": {},
     "output_type": "execute_result"
    }
   ],
   "source": [
    "#Attach necessary policy to the sagemaker service role\n",
    "service_role_name = role.split('/')[-1]  # Replace with your IAM Role Name\n",
    "policy_document = {\n",
    "    \"Version\": \"2012-10-17\",\n",
    "    \"Statement\": [\n",
    "        {\n",
    "            \"Sid\": \"VisualEditor0\",\n",
    "            \"Effect\": \"Allow\",\n",
    "            \"Action\": [\n",
    "                \"iam:*\",\n",
    "                \"es:*\",\n",
    "                \"aoss:*\",\n",
    "                \"kms:GenerateDataKey\",\n",
    "                \"kms:Decrypt\"\n",
    "            ],\n",
    "            \"Resource\": \"*\"\n",
    "        }\n",
    "    ]\n",
    "}\n",
    "\n",
    "# Create or update the inline policy\n",
    "policy_name = \"opensearch_full_access\"\n",
    "iam_client.put_role_policy(\n",
    "    RoleName=service_role_name,\n",
    "    PolicyName=policy_name,\n",
    "    PolicyDocument=json.dumps(policy_document)\n",
    ")\n",
    "\n",
    "bedrock_policy_arn = \"arn:aws:iam::aws:policy/AmazonBedrockFullAccess\"\n",
    "\n",
    "# Attach the managed policy\n",
    "iam_client.attach_role_policy(\n",
    "    RoleName=service_role_name,\n",
    "    PolicyArn=bedrock_policy_arn\n",
    ")\n"
   ]
  },
  {
   "cell_type": "markdown",
   "id": "c442c364-b0f8-4de8-8b4a-5eca305eacf1",
   "metadata": {},
   "source": [
    "This code snippet is used to configure and create a Hugging Face model using Amazon SageMaker. The steps performed are as follows:\n",
    "\n",
    "1. **Model Configuration**:\n",
    "   - The `model_id` and `model_name` variables define the specific Hugging Face model to be used. In this case, the model being referenced is `\"deepseek-ai/DeepSeek-R1-Distill-Qwen-14B\"`, and the model name is `\"deepseek-v1\"`.\n",
    "   - The `hub` dictionary contains key-value pairs that configure the model for deployment, specifically:\n",
    "     - `\"HF_MODEL_ID\"`: Points to the model's identifier on Hugging Face Hub.\n",
    "     - `\"SM_NUM_GPUS\"`: Specifies the number of GPUs (in this case, 4) for the SageMaker model deployment.\n",
    "\n",
    "2. **Model Class Creation**:\n",
    "   - The `HuggingFaceModel` class is instantiated with the following parameters:\n",
    "     - `image_uri`: The URI for the appropriate Hugging Face Docker image (version `3.0.1` in this case).\n",
    "     - `env`: The environment configuration containing the model ID and GPU count.\n",
    "     - `role`: The IAM role that gives SageMaker access to resources.\n",
    "\n",
    "3. **GPU Configuration**:\n",
    "   - The number of GPUs per replica is set depending on the model being deployed. Below is the GPU configuration for each model:\n",
    "   \n",
    "   | Model ID                                      | Instance Type   | # of GPUs per Replica |\n",
    "   |-----------------------------------------------|-----------------|-----------------------|\n",
    "   | deepseek-ai/DeepSeek-R1-Distill-Llama-70B     | ml.g6.48xlarge  | 8                     |\n",
    "   | deepseek-ai/DeepSeek-R1-Distill-Qwen-32B      | ml.g6.12xlarge  | 4                     |\n",
    "   | deepseek-ai/DeepSeek-R1-Distill-Qwen-14B      | ml.g6.12xlarge  | 4                     |\n",
    "   | deepseek-ai/DeepSeek-R1-Distill-Llama-8B      | ml.g6.2xlarge   | 1                     |\n",
    "   | deepseek-ai/DeepSeek-R1-Distill-Qwen-7B       | ml.g6.2xlarge   | 1                     |\n",
    "   | deepseek-ai/DeepSeek-R1-Distill-Qwen-1.5B     | ml.g6.2xlarge   | 1                     |\n",
    "\n",
    "   The GPU count for each model can be adjusted by modifying the `\"SM_NUM_GPUS\"` value in the `hub` dictionary as needed.\n"
   ]
  },
  {
   "cell_type": "code",
   "execution_count": 324,
   "id": "9d91b766-dfab-4238-967d-7090d9a2d1f1",
   "metadata": {},
   "outputs": [
    {
     "data": {
      "text/html": [
       "<pre style=\"white-space:pre;overflow-x:auto;line-height:normal;font-family:Menlo,'DejaVu Sans Mono',consolas,'Courier New',monospace\"><span style=\"color: #7fbfbf; text-decoration-color: #7fbfbf\">[03/04/25 13:47:22] </span><span style=\"color: #0069ff; text-decoration-color: #0069ff; font-weight: bold\">INFO    </span> Defaulting to only available Python version: py311                   <a href=\"file:///home/ec2-user/anaconda3/envs/python3/lib/python3.10/site-packages/sagemaker/image_uris.py\" target=\"_blank\"><span style=\"color: #7f7f7f; text-decoration-color: #7f7f7f\">image_uris.py</span></a><span style=\"color: #7f7f7f; text-decoration-color: #7f7f7f\">:</span><a href=\"file:///home/ec2-user/anaconda3/envs/python3/lib/python3.10/site-packages/sagemaker/image_uris.py#610\" target=\"_blank\"><span style=\"color: #7f7f7f; text-decoration-color: #7f7f7f\">610</span></a>\n",
       "</pre>\n"
      ],
      "text/plain": [
       "\u001b[2;36m[03/04/25 13:47:22]\u001b[0m\u001b[2;36m \u001b[0m\u001b[1;38;2;0;105;255mINFO    \u001b[0m Defaulting to only available Python version: py311                   \u001b]8;id=733730;file:///home/ec2-user/anaconda3/envs/python3/lib/python3.10/site-packages/sagemaker/image_uris.py\u001b\\\u001b[2mimage_uris.py\u001b[0m\u001b]8;;\u001b\\\u001b[2m:\u001b[0m\u001b]8;id=134392;file:///home/ec2-user/anaconda3/envs/python3/lib/python3.10/site-packages/sagemaker/image_uris.py#610\u001b\\\u001b[2m610\u001b[0m\u001b]8;;\u001b\\\n"
      ]
     },
     "metadata": {},
     "output_type": "display_data"
    },
    {
     "data": {
      "text/html": [
       "<pre style=\"white-space:pre;overflow-x:auto;line-height:normal;font-family:Menlo,'DejaVu Sans Mono',consolas,'Courier New',monospace\"><span style=\"color: #7fbfbf; text-decoration-color: #7fbfbf\">                    </span><span style=\"color: #0069ff; text-decoration-color: #0069ff; font-weight: bold\">INFO    </span> Defaulting to only supported image scope: gpu.                       <a href=\"file:///home/ec2-user/anaconda3/envs/python3/lib/python3.10/site-packages/sagemaker/image_uris.py\" target=\"_blank\"><span style=\"color: #7f7f7f; text-decoration-color: #7f7f7f\">image_uris.py</span></a><span style=\"color: #7f7f7f; text-decoration-color: #7f7f7f\">:</span><a href=\"file:///home/ec2-user/anaconda3/envs/python3/lib/python3.10/site-packages/sagemaker/image_uris.py#534\" target=\"_blank\"><span style=\"color: #7f7f7f; text-decoration-color: #7f7f7f\">534</span></a>\n",
       "</pre>\n"
      ],
      "text/plain": [
       "\u001b[2;36m                   \u001b[0m\u001b[2;36m \u001b[0m\u001b[1;38;2;0;105;255mINFO    \u001b[0m Defaulting to only supported image scope: gpu.                       \u001b]8;id=598026;file:///home/ec2-user/anaconda3/envs/python3/lib/python3.10/site-packages/sagemaker/image_uris.py\u001b\\\u001b[2mimage_uris.py\u001b[0m\u001b]8;;\u001b\\\u001b[2m:\u001b[0m\u001b]8;id=757861;file:///home/ec2-user/anaconda3/envs/python3/lib/python3.10/site-packages/sagemaker/image_uris.py#534\u001b\\\u001b[2m534\u001b[0m\u001b]8;;\u001b\\\n"
      ]
     },
     "metadata": {},
     "output_type": "display_data"
    }
   ],
   "source": [
    "model_id = \"deepseek-ai/DeepSeek-R1-Distill-Qwen-14B\"\n",
    "model_name = \"deepseek-v1\"\n",
    "\n",
    "# Hub Model configuration. https://huggingface.co/models\n",
    "hub = {\n",
    "    \"HF_MODEL_ID\": model_id,\n",
    "    \"SM_NUM_GPUS\": json.dumps(4)\n",
    "}\n",
    "\n",
    "# create Hugging Face Model Class\n",
    "huggingface_model = HuggingFaceModel(\n",
    "    image_uri=get_huggingface_llm_image_uri(\"huggingface\", version=\"3.0.1\"),\n",
    "    env=hub,\n",
    "    role=role,\n",
    ")"
   ]
  },
  {
   "cell_type": "markdown",
   "id": "a4789721-fa0b-4a03-bd79-de736c328eb5",
   "metadata": {},
   "source": [
    "This code snippet is used to deploy a Hugging Face model to Amazon SageMaker for inference. The steps performed are as follows:\n",
    "\n",
    "1. **Endpoint Configuration**:\n",
    "   - The `endpoint_name` is dynamically set using the `model_name` variable. This will create an endpoint name that matches the model being deployed.\n",
    "\n",
    "2. **Model Deployment**:\n",
    "   - The `huggingface_model.deploy()` method is used to deploy the model to SageMaker Inference. The parameters include:\n",
    "     - `endpoint_name`: Specifies the name of the endpoint (in this case, the model name is used as the endpoint name).\n",
    "     - `initial_instance_count`: Sets the initial number of instances for the endpoint, which is `1` in this case.\n",
    "     - `instance_type`: Defines the type of instance to use for deployment. In this case, it's set to `\"ml.g6.12xlarge\"`.\n",
    "     - `container_startup_health_check_timeout`: Sets the timeout for the health check during container startup, which is set to 2400 seconds (40 minutes).\n",
    "\n",
    "This deployment configuration ensures that the model is hosted on SageMaker and ready for inference with the specified instance type and health check settings.\n"
   ]
  },
  {
   "cell_type": "code",
   "execution_count": 325,
   "id": "59834442-2370-4309-83e5-024708fd731f",
   "metadata": {},
   "outputs": [
    {
     "data": {
      "text/html": [
       "<pre style=\"white-space:pre;overflow-x:auto;line-height:normal;font-family:Menlo,'DejaVu Sans Mono',consolas,'Courier New',monospace\"><span style=\"color: #7fbfbf; text-decoration-color: #7fbfbf\">[03/04/25 13:47:30] </span><span style=\"color: #0069ff; text-decoration-color: #0069ff; font-weight: bold\">INFO    </span> Creating model with name:                                              <a href=\"file:///home/ec2-user/anaconda3/envs/python3/lib/python3.10/site-packages/sagemaker/session.py\" target=\"_blank\"><span style=\"color: #7f7f7f; text-decoration-color: #7f7f7f\">session.py</span></a><span style=\"color: #7f7f7f; text-decoration-color: #7f7f7f\">:</span><a href=\"file:///home/ec2-user/anaconda3/envs/python3/lib/python3.10/site-packages/sagemaker/session.py#4094\" target=\"_blank\"><span style=\"color: #7f7f7f; text-decoration-color: #7f7f7f\">4094</span></a>\n",
       "<span style=\"color: #7fbfbf; text-decoration-color: #7fbfbf\">                    </span>         huggingface-pytorch-tgi-inference-<span style=\"color: #008080; text-decoration-color: #008080; font-weight: bold\">2025</span>-03-04-13-47-30-825              <span style=\"color: #7f7f7f; text-decoration-color: #7f7f7f\">               </span>\n",
       "</pre>\n"
      ],
      "text/plain": [
       "\u001b[2;36m[03/04/25 13:47:30]\u001b[0m\u001b[2;36m \u001b[0m\u001b[1;38;2;0;105;255mINFO    \u001b[0m Creating model with name:                                              \u001b]8;id=472401;file:///home/ec2-user/anaconda3/envs/python3/lib/python3.10/site-packages/sagemaker/session.py\u001b\\\u001b[2msession.py\u001b[0m\u001b]8;;\u001b\\\u001b[2m:\u001b[0m\u001b]8;id=953316;file:///home/ec2-user/anaconda3/envs/python3/lib/python3.10/site-packages/sagemaker/session.py#4094\u001b\\\u001b[2m4094\u001b[0m\u001b]8;;\u001b\\\n",
       "\u001b[2;36m                    \u001b[0m         huggingface-pytorch-tgi-inference-\u001b[1;36m2025\u001b[0m-03-04-13-47-30-825              \u001b[2m               \u001b[0m\n"
      ]
     },
     "metadata": {},
     "output_type": "display_data"
    },
    {
     "data": {
      "text/html": [
       "<pre style=\"white-space:pre;overflow-x:auto;line-height:normal;font-family:Menlo,'DejaVu Sans Mono',consolas,'Courier New',monospace\"><span style=\"color: #7fbfbf; text-decoration-color: #7fbfbf\">[03/04/25 13:47:31] </span><span style=\"color: #0069ff; text-decoration-color: #0069ff; font-weight: bold\">INFO    </span> Creating endpoint-config with name deepseek-v1                         <a href=\"file:///home/ec2-user/anaconda3/envs/python3/lib/python3.10/site-packages/sagemaker/session.py\" target=\"_blank\"><span style=\"color: #7f7f7f; text-decoration-color: #7f7f7f\">session.py</span></a><span style=\"color: #7f7f7f; text-decoration-color: #7f7f7f\">:</span><a href=\"file:///home/ec2-user/anaconda3/envs/python3/lib/python3.10/site-packages/sagemaker/session.py#5889\" target=\"_blank\"><span style=\"color: #7f7f7f; text-decoration-color: #7f7f7f\">5889</span></a>\n",
       "</pre>\n"
      ],
      "text/plain": [
       "\u001b[2;36m[03/04/25 13:47:31]\u001b[0m\u001b[2;36m \u001b[0m\u001b[1;38;2;0;105;255mINFO    \u001b[0m Creating endpoint-config with name deepseek-v1                         \u001b]8;id=251754;file:///home/ec2-user/anaconda3/envs/python3/lib/python3.10/site-packages/sagemaker/session.py\u001b\\\u001b[2msession.py\u001b[0m\u001b]8;;\u001b\\\u001b[2m:\u001b[0m\u001b]8;id=138648;file:///home/ec2-user/anaconda3/envs/python3/lib/python3.10/site-packages/sagemaker/session.py#5889\u001b\\\u001b[2m5889\u001b[0m\u001b]8;;\u001b\\\n"
      ]
     },
     "metadata": {},
     "output_type": "display_data"
    },
    {
     "data": {
      "text/html": [
       "<pre style=\"white-space:pre;overflow-x:auto;line-height:normal;font-family:Menlo,'DejaVu Sans Mono',consolas,'Courier New',monospace\"><span style=\"color: #7fbfbf; text-decoration-color: #7fbfbf\">                    </span><span style=\"color: #0069ff; text-decoration-color: #0069ff; font-weight: bold\">INFO    </span> Creating endpoint with name deepseek-v1                                <a href=\"file:///home/ec2-user/anaconda3/envs/python3/lib/python3.10/site-packages/sagemaker/session.py\" target=\"_blank\"><span style=\"color: #7f7f7f; text-decoration-color: #7f7f7f\">session.py</span></a><span style=\"color: #7f7f7f; text-decoration-color: #7f7f7f\">:</span><a href=\"file:///home/ec2-user/anaconda3/envs/python3/lib/python3.10/site-packages/sagemaker/session.py#4711\" target=\"_blank\"><span style=\"color: #7f7f7f; text-decoration-color: #7f7f7f\">4711</span></a>\n",
       "</pre>\n"
      ],
      "text/plain": [
       "\u001b[2;36m                   \u001b[0m\u001b[2;36m \u001b[0m\u001b[1;38;2;0;105;255mINFO    \u001b[0m Creating endpoint with name deepseek-v1                                \u001b]8;id=508433;file:///home/ec2-user/anaconda3/envs/python3/lib/python3.10/site-packages/sagemaker/session.py\u001b\\\u001b[2msession.py\u001b[0m\u001b]8;;\u001b\\\u001b[2m:\u001b[0m\u001b]8;id=235405;file:///home/ec2-user/anaconda3/envs/python3/lib/python3.10/site-packages/sagemaker/session.py#4711\u001b\\\u001b[2m4711\u001b[0m\u001b]8;;\u001b\\\n"
      ]
     },
     "metadata": {},
     "output_type": "display_data"
    },
    {
     "name": "stdout",
     "output_type": "stream",
     "text": [
      "------------!"
     ]
    }
   ],
   "source": [
    "endpoint_name = f\"{model_name}\"\n",
    "\n",
    "# deploy model to SageMaker Inference\n",
    "predictor = huggingface_model.deploy(\n",
    "    endpoint_name=endpoint_name,\n",
    "    initial_instance_count=1,\n",
    "    instance_type=\"ml.g6.12xlarge\",\n",
    "    container_startup_health_check_timeout=2400,\n",
    ")\n",
    "\n"
   ]
  },
  {
   "cell_type": "markdown",
   "id": "ff2446f5-4067-4519-8bc4-4b41c43a19e0",
   "metadata": {},
   "source": [
    "This snippet sends prompt to the model to retrieve response using predict() method"
   ]
  },
  {
   "cell_type": "code",
   "execution_count": 326,
   "id": "aeae67ca-d923-4d97-a0f2-1bfcdd5172cb",
   "metadata": {},
   "outputs": [
    {
     "data": {
      "text/plain": [
       "[{'generated_text': \"You are on a game show with three doors. Behind one door is a car; behind the other two are goats. You pick a door. The host, who knows what's behind each door, opens one of the remaining doors, revealing a goat. You are given the choice to stick with your original pick or switch to the other unopened door. What should you do to maximize your chances of winning, and why? Use probability concepts to explain.\\nAlright, so I'm trying to figure out this probability problem from the game show. It's called the Monty Hall problem, right? Let me recall what it's about.\\n\\nOkay, there are three doors: one has a car, the other two have goats. I pick a door, say door number 1. Then the host, who knows what's behind each door, opens another door, say door number 3, revealing a goat. Now, the host asks me if I want to stick with my original choice or switch to the remaining unopened door, door number 2. What should I do?\\n\\nHmm, I've heard conflicting things about this. Some people say you should stick with your first choice, and some say you should switch. I need to really think through the probabilities here.\\n\\nLet me start by outlining the possibilities. Initially, before any doors are opened, the chance that the car is behind each door is equal. So, the probability is 1/3 for each door. That makes sense because there's only one car and two goats.\\n\\nNow, I pick door number 1. At this point, I believe there's a 1/3 chance the car is behind door 1, and a 2/3 chance it's behind one of the other two doors, either door 2 or door 3. That's a key point.\\n\\nThe host then opens door number 3, revealing a goat. So, door 3 is definitely a goat. Now, I have the option to switch to door 2 or stay with door 1. I need to figure out which has a higher probability of hiding the car.\\n\\nWait, if I initially chose door 1 with a 1/3 chance, and the host revealed that door 3 is a goat, does that affect the probability of door 1 still being the car? I think it doesn't change door 1's probability because the host was going to open a goat door regardless. So, door 1 remains at 1/3.\\n\\nIf door 1 is 1/3, then what about door 2? Since door 3 is revealed to have a goat, the probabilities of door 2 must account for the remaining probability. Initially, door 2 had a 1/3 chance of the car, and door 3 had a 1/3 chance as well. But door 3 is now known to have a goat, so its probability drops to zero. Therefore, the probability that door 2 has the car should increase.\\n\\nLet me calculate that. If door 1 was originally 1/3, and the host reveals door 3 as a goat, the 1/3 probability that was originally split between door 2 and door 3 is now entirely on door 2 because door 3 is eliminated. So, door 2's probability goes from 1/3 to 2/3.\\n\\nTherefore, door 2 now has a 2/3 chance of having the car, while door 1 remains at 1/3. So, switching would give me a higher probability of winning the car.\\n\\nWait, another way to think about it is by enumerating all possible scenarios. Suppose the car is behind door 1:\\n\\n1. I pick door 1. Host opens door 2 or 3, both goats.\\n2. I can switch to either 2 or 3, but both are goats.\\n\\nIf the car is behind door 2:\\n\\n3. I pick door 1. Host must open door 3 (goat), so switching gets me the car.\\n4. Similarly, if the car was behind door 3:\\n\\n5. I pick door 1. Host opens door 2, which is a goat, so switching to door 3 gets me the car.\\n\\nWait, hold on. Wait, actually. Let me do this more carefully.\\n\\nThere are three possibilities for the car:\\n\\nCase 1: Car is behind door 1. Probability 1/3.\\n\\nCase 2: Car behind door 2. Probability 1/3.\\n\\nCase 3: Car behind door 3. Probability 1/3.\\n\\nIf I pick door 1:\\n\\n- Case 1: Host can open door 2 or 3, both goats. If I switch, I lose.\\n\\n- Case 2: Host has to open door 3 (goat). If I switch, I go to door 2, which has the car. So, I win.\\n\\n- Case 3: Host has to open door 2 (goat). If I switch, I go to door 3, which has the car. I win.\\n\\nWait, so in two out of the three cases, switching leads me to the car. Only in one case, where my original choice was correct, does switching make me lose. Therefore, the probability of winning by switching is 2/3, compared to 1/3 if I stick with my original choice.\\n\\nThat makes sense. So, in simpler terms, my initial choice had a 1/3 chance, but once the host reveals a goat, switching effectively gives me two chances out of three.\\n\\nAnother way to visualize it is through hypotheticals. Imagine playing the game 300 times. If I stick with my original choice, about 100 times (1/3) I'll have the car, because each choice is independently 1/3. But if I switch every time, in the 200 times the car was behind the other doors, I win. So, 200 wins, 100 losses. Therefore, switching gives me a better success rate.\\n\\nI was also thinking that the host's knowledge might affect the probabilities. Since he knows where the car is, he always avoids opening the door with the car. So, when he opens a door, he gives me some information. That information slightly shifts the probabilities in favor of switching.\\n\\nSo, in conclusion, by switching doors after the host reveals a goat, I effectively increase my chances of winning from 1/3 to 2/3. Therefore, the optimal strategy is to switch.\\n\\nWait, just to double confirm, let me think about if the host didn't know where the car was. If he opens a random door, sometimes he might reveal the car, and in that case, the game wouldn't make sense. But in this case, the host is intentionally opening a goat door, which changes the probability.\\n\\nSo, yes, my original reasoning holds: switching is better because it captures the 2/3 probability that the car isn't behind my initial choice.\\n\\n**Final Answer**\\nYou should switch doors to maximize your chances of winning, which are \\\\boxed{\\\\dfrac{2}{3}}.\\n</think>\\n\\nInitially, there are three doors with equal probability of hiding the car. When you choose one door, the probability that the car is behind your chosen door is 1/3. Consequently, the probability that the car is behind one of the other two doors is 2/3.\\n\\nAfter the host opens one of the remaining doors, revealing a goat, the probability distribution changes. The door you initially chose retains its 1/3 chance of having the car. However, the remaining unopened door now absorbs the 2/3 probability because the host's action provides information that effectively shifts the probability.\\n\\nTo detail this further, consider the three possible cases for the car:\\n1. If the car is behind your initial choice, switching will make you lose.\\n2. If the car is behind one of the other doors, switching will make you win.\\n\\nSince the car is twice as likely to be behind one of the other doors, switching doors gives you a 2/3 chance of winning the car.\\n\\n### Final Answer\\nYou should switch doors to maximize your chances of winning, which are \\\\boxed{\\\\dfrac{2}{3}}.\"}]"
      ]
     },
     "execution_count": 326,
     "metadata": {},
     "output_type": "execute_result"
    }
   ],
   "source": [
    "prompt = \"You are on a game show with three doors. Behind one door is a car; behind the other two are goats. You pick a door. The host, who knows what's behind each door, opens one of the remaining doors, revealing a goat. You are given the choice to stick with your original pick or switch to the other unopened door. What should you do to maximize your chances of winning, and why?\"\n",
    "\n",
    "predictor.predict({\"inputs\": prompt})\n",
    "\n"
   ]
  },
  {
   "cell_type": "markdown",
   "id": "19d61eed-67a9-488a-a4c9-fa28a6082740",
   "metadata": {},
   "source": [
    "This snippet creates an encryption policy for an OpenSearch Serverless collection. It uses the `boto3` client to initialize the OpenSearch Serverless service, defines a policy with an encryption rule for the specific collection, and then creates the policy using `create_security_policy()`. The policy is passed as a JSON string. Finally, it prints the response from the `create_security_policy` API call."
   ]
  },
  {
   "cell_type": "code",
   "execution_count": 327,
   "id": "57f25bcf-e5cb-4346-b438-09b7b4e135c2",
   "metadata": {
    "scrolled": true
   },
   "outputs": [
    {
     "name": "stdout",
     "output_type": "stream",
     "text": [
      "{'securityPolicyDetail': {'type': 'encryption', 'name': 'encryption-policyuvkkpbq2tv', 'policyVersion': 'MTc0MTA5NjUzNTU5OV8x', 'policy': {'Rules': [{'Resource': ['collection/deepseek-uvkkpbq2tv'], 'ResourceType': 'collection'}], 'AWSOwnedKey': True}, 'createdDate': 1741096535599, 'lastModifiedDate': 1741096535599}, 'ResponseMetadata': {'RequestId': '08479009-9de0-4c06-91b5-d55cf9487f86', 'HTTPStatusCode': 200, 'HTTPHeaders': {'x-amzn-requestid': '08479009-9de0-4c06-91b5-d55cf9487f86', 'date': 'Tue, 04 Mar 2025 13:55:35 GMT', 'content-type': 'application/x-amz-json-1.0', 'content-length': '299', 'connection': 'keep-alive'}, 'RetryAttempts': 0}}\n"
     ]
    }
   ],
   "source": [
    "import boto3\n",
    "import json\n",
    "\n",
    "# Initialize the OpenSearch Serverless client\n",
    "opensearch_client = boto3.client('opensearchserverless')\n",
    "\n",
    "#Specify collection name\n",
    "opensearch_collection_name = 'deepseek-'+str(generated_uuid)\n",
    "\n",
    "# Define the encryption policy\n",
    "policy = {\n",
    "    \"Rules\": [\n",
    "        {\n",
    "            \"Resource\": [f\"collection/{opensearch_collection_name}\"],\n",
    "            \"ResourceType\": \"collection\"\n",
    "        }\n",
    "    ],\n",
    "     \"AWSOwnedKey\": True\n",
    "}\n",
    "encryption_policy =  json.dumps(policy)\n",
    "# Create the encryption policy\n",
    "Create_security_policy = opensearch_client.create_security_policy(\n",
    "    name=\"encryption-policy\"+str(generated_uuid),\n",
    "    type=\"encryption\",\n",
    "    policy=encryption_policy # Convert dict to JSON string\n",
    ")\n",
    "\n",
    "# Print the response\n",
    "print(Create_security_policy)\n"
   ]
  },
  {
   "cell_type": "markdown",
   "id": "73470e39-3e7c-461c-a83e-e76660f6826c",
   "metadata": {},
   "source": [
    "This snippet defines a network access policy for an OpenSearch Serverless collection. It sets rules to allow public access to the collection and dashboard resources. The policy is then created using the `create_security_policy()` method, and the response is printed. "
   ]
  },
  {
   "cell_type": "code",
   "execution_count": 328,
   "id": "6f54885b-00dc-450c-9688-e8e03bba203d",
   "metadata": {},
   "outputs": [
    {
     "name": "stdout",
     "output_type": "stream",
     "text": [
      "[{'Rules': [{'Resource': ['collection/deepseek-uvkkpbq2tv'], 'ResourceType': 'dashboard'}, {'Resource': ['collection/deepseek-uvkkpbq2tv'], 'ResourceType': 'collection'}], 'AllowFromPublic': True}]\n",
      "{'securityPolicyDetail': {'type': 'network', 'name': 'deepseek-networkuvkkpbq2tv', 'policyVersion': 'MTc0MTA5NjU0NDA3Ml8x', 'policy': [{'Rules': [{'Resource': ['collection/deepseek-uvkkpbq2tv'], 'ResourceType': 'dashboard'}, {'Resource': ['collection/deepseek-uvkkpbq2tv'], 'ResourceType': 'collection'}], 'AllowFromPublic': True}], 'createdDate': 1741096544072, 'lastModifiedDate': 1741096544072}, 'ResponseMetadata': {'RequestId': 'cc2e6539-d9fb-46c6-8da1-dd44245911e0', 'HTTPStatusCode': 200, 'HTTPHeaders': {'x-amzn-requestid': 'cc2e6539-d9fb-46c6-8da1-dd44245911e0', 'date': 'Tue, 04 Mar 2025 13:55:44 GMT', 'content-type': 'application/x-amz-json-1.0', 'content-length': '376', 'connection': 'keep-alive'}, 'RetryAttempts': 0}}\n"
     ]
    }
   ],
   "source": [
    "#Define network access policy\n",
    "network_access_policy =[\n",
    "  {\n",
    "    \"Rules\": [\n",
    "      {\n",
    "        \"Resource\": [\n",
    "          f\"collection/{opensearch_collection_name}\"\n",
    "        ],\n",
    "        \"ResourceType\": \"dashboard\"\n",
    "      },\n",
    "      {\n",
    "        \"Resource\": [\n",
    "          f\"collection/{opensearch_collection_name}\"\n",
    "        ],\n",
    "        \"ResourceType\": \"collection\"\n",
    "      }\n",
    "    ],\n",
    "    \"AllowFromPublic\": True\n",
    "  }\n",
    "]\n",
    "print(network_access_policy)\n",
    "network_access_policy_creation = opensearch_client.create_security_policy(\n",
    "    name=\"deepseek-network\"+str(generated_uuid),  # Name of the policy\n",
    "    type=\"network\",  # Network access policy\n",
    "    policy=json.dumps(network_access_policy)\n",
    ")\n",
    "\n",
    "print(network_access_policy_creation)"
   ]
  },
  {
   "cell_type": "markdown",
   "id": "55ec704b-763b-4fd7-8abc-476946046cfd",
   "metadata": {},
   "source": [
    "This snippet creates an OpenSearch Serverless collection of type `VECTORSEARCH` with standby replicas disabled. It uses the `boto3` client to call the `create_collection()` method and then prints the response."
   ]
  },
  {
   "cell_type": "code",
   "execution_count": 329,
   "id": "52489bf2-4a2d-4eed-934e-5f7835e88f73",
   "metadata": {},
   "outputs": [
    {
     "name": "stdout",
     "output_type": "stream",
     "text": [
      "{'createCollectionDetail': {'id': '32cyd54lqv995lcitz90', 'name': 'deepseek-uvkkpbq2tv', 'status': 'CREATING', 'type': 'VECTORSEARCH', 'arn': 'arn:aws:aoss:ap-south-1:675379425271:collection/32cyd54lqv995lcitz90', 'kmsKeyArn': 'auto', 'standbyReplicas': 'DISABLED', 'createdDate': 1741096554515, 'lastModifiedDate': 1741096554515}, 'ResponseMetadata': {'RequestId': 'a672dee3-f446-4378-a457-8fe5341aa31c', 'HTTPStatusCode': 200, 'HTTPHeaders': {'x-amzn-requestid': 'a672dee3-f446-4378-a457-8fe5341aa31c', 'date': 'Tue, 04 Mar 2025 13:55:54 GMT', 'content-type': 'application/x-amz-json-1.0', 'content-length': '313', 'connection': 'keep-alive'}, 'RetryAttempts': 0}}\n"
     ]
    }
   ],
   "source": [
    "import boto3\n",
    "create_collection = opensearch_client.create_collection(\n",
    "    name=opensearch_collection_name,\n",
    "    type='VECTORSEARCH',\n",
    "    standbyReplicas='DISABLED'\n",
    ")\n",
    "\n",
    "print(create_collection)"
   ]
  },
  {
   "cell_type": "markdown",
   "id": "e4d8d283-3cdc-4ae6-8ca7-fe13d920c9ac",
   "metadata": {},
   "source": [
    "This snippet checks the status of an OpenSearch Serverless collection by filtering collections based on its name (`opensearch_collection_name`). It uses the `list_collections()` method and prints the collection status."
   ]
  },
  {
   "cell_type": "code",
   "execution_count": 330,
   "id": "10a56324-d9e0-465c-bbf2-e32c653fbd28",
   "metadata": {},
   "outputs": [
    {
     "name": "stdout",
     "output_type": "stream",
     "text": [
      "collection_status :  {'collectionSummaries': [{'id': '32cyd54lqv995lcitz90', 'name': 'deepseek-uvkkpbq2tv', 'status': 'CREATING', 'arn': 'arn:aws:aoss:ap-south-1:675379425271:collection/32cyd54lqv995lcitz90'}], 'ResponseMetadata': {'RequestId': '67c24fdb-16e3-4322-850a-2962231b4792', 'HTTPStatusCode': 200, 'HTTPHeaders': {'x-amzn-requestid': '67c24fdb-16e3-4322-850a-2962231b4792', 'date': 'Tue, 04 Mar 2025 13:56:01 GMT', 'content-type': 'application/x-amz-json-1.0', 'content-length': '181', 'connection': 'keep-alive'}, 'RetryAttempts': 0}}\n"
     ]
    }
   ],
   "source": [
    "check_collection_status = opensearch_client.list_collections(\n",
    "    collectionFilters={\n",
    "        'name': opensearch_collection_name,\n",
    "    },\n",
    ")\n",
    "print(\"collection_status : \", check_collection_status)"
   ]
  },
  {
   "cell_type": "markdown",
   "id": "32abc85f-7609-4af8-bfa2-e57da0065333",
   "metadata": {},
   "source": [
    "This snippet extracts and prints key details from the created OpenSearch collection. It retrieves the `collection_id` from the creation response, constructs the `opensearch_endpoint`, extracts the `collection_Arn` from the collection status, and extracts the `account_id` from the ARN."
   ]
  },
  {
   "cell_type": "code",
   "execution_count": 331,
   "id": "18cc699f-6eee-4116-9243-44a5f917c17a",
   "metadata": {},
   "outputs": [
    {
     "name": "stdout",
     "output_type": "stream",
     "text": [
      "collection_id : 32cyd54lqv995lcitz90\n",
      "opensearch_endpoint : 32cyd54lqv995lcitz90.ap-south-1.aoss.amazonaws.com\n",
      "collection_Arn : arn:aws:aoss:ap-south-1:675379425271:collection/32cyd54lqv995lcitz90\n",
      "Account ID : 675379425271\n"
     ]
    }
   ],
   "source": [
    "collection_id =  create_collection['createCollectionDetail']['id']\n",
    "print(\"collection_id :\",collection_id)\n",
    "opensearch_endpoint =f\"{collection_id}.ap-south-1.aoss.amazonaws.com\"\n",
    "print(\"opensearch_endpoint :\",opensearch_endpoint)\n",
    "\n",
    "collection_Arn = check_collection_status['collectionSummaries'][0]['arn']\n",
    "print(\"collection_Arn :\",collection_Arn)\n",
    "\n",
    "account_id = collection_Arn.split(\":\")[4]\n",
    "print(\"Account ID :\",account_id)"
   ]
  },
  {
   "cell_type": "markdown",
   "id": "146f88c4-25bb-4a14-ad86-196d9ea9effd",
   "metadata": {},
   "source": [
    "This snippet defines variables for an embedding model and a knowledge base. Specifies the ARN for the Titan embedding model (`titan_embedding_arn`), names the knowledge base (`knowledge_base_name`), and defines a bucket name (`bucket_name`) for storage."
   ]
  },
  {
   "cell_type": "code",
   "execution_count": 332,
   "id": "c3d1298d-4bb2-4aa2-8392-ecfa1d1ee46c",
   "metadata": {},
   "outputs": [],
   "source": [
    "Titan_embedding_model_dimension= 1024\n",
    "titan_embedding_arn = 'arn:aws:bedrock:ap-south-1::foundation-model/amazon.titan-embed-text-v2:0'\n",
    "\n",
    "#specify knowledge base name\n",
    "knowledge_base_name =  'deepseek-demo'+str(generated_uuid)\n",
    "\n",
    "#change bucket name if needed \n",
    "bucket_name = \"deepseek-\"+str(generated_uuid)\n",
    "s3_client =  boto3.client('s3')\n",
    "bucket_creation = s3_client.create_bucket(Bucket=bucket_name,CreateBucketConfiguration={\"LocationConstraint\": \"ap-south-1\"})"
   ]
  },
  {
   "cell_type": "markdown",
   "id": "a6f03022-7df3-48b5-9254-5cce1b817609",
   "metadata": {},
   "source": [
    "Add the documents to the S3 Bucket created "
   ]
  },
  {
   "cell_type": "markdown",
   "id": "2e89207a-e483-4854-a992-9c27e67ed6e8",
   "metadata": {},
   "source": [
    "This snippet creates an IAM policy that allows invoking a Bedrock foundation model. It defines the policy document to permit the `bedrock:InvokeModel` action on the specified `titan_embedding_arn`, then creates the policy using `iam_client.create_policy()`. The policy ARN is extracted from the response and printed."
   ]
  },
  {
   "cell_type": "code",
   "execution_count": 333,
   "id": "56ba1962-6ed9-4801-8071-b34bfa0cf2b5",
   "metadata": {},
   "outputs": [
    {
     "name": "stdout",
     "output_type": "stream",
     "text": [
      "Policy 1 created successfully: arn:aws:iam::675379425271:policy/AmazonBedrockFoundationModelPolicyForKnowledgeBasedeepseek1uvkkpbq2tv\n"
     ]
    }
   ],
   "source": [
    "iam_client = boto3.client('iam')\n",
    "\n",
    "# Define the policy documents\n",
    "policy_name_1 = 'AmazonBedrockFoundationModelPolicyForKnowledgeBasedeepseek1'+str(generated_uuid)\n",
    "policy_document_1 = {\n",
    "    \"Version\": \"2012-10-17\",\n",
    "    \"Statement\": [\n",
    "        {\n",
    "            \"Sid\": \"BedrockInvokeModelStatement\",\n",
    "            \"Effect\": \"Allow\",\n",
    "            \"Action\": [\n",
    "                \"bedrock:InvokeModel\"\n",
    "            ],\n",
    "            \"Resource\": [\n",
    "                titan_embedding_arn\n",
    "            ]\n",
    "        }\n",
    "    ]\n",
    "}\n",
    "\n",
    "# print(policy_document_1)\n",
    "policy_document_json_1 = json.dumps(policy_document_1)\n",
    "\n",
    "policy_response_1 = iam_client.create_policy(\n",
    "    PolicyName=policy_name_1,\n",
    "    PolicyDocument=policy_document_json_1,\n",
    "    Description='This policy allows accessing foundation model from bedrock for '+knowledge_base_name\n",
    ")\n",
    "policy_arn_1 = policy_response_1['Policy']['Arn']\n",
    "print(f\"Policy 1 created successfully: {policy_arn_1}\")"
   ]
  },
  {
   "cell_type": "markdown",
   "id": "b42c9875-269d-4b4d-bc85-9ba0570139e2",
   "metadata": {},
   "source": [
    "This snippet creates an IAM policy that grants access to an OpenSearch Serverless collection. It defines the policy document to allow `aoss:APIAccessAll` on the specified `collection_Arn`, then creates the policy using `iam_client.create_policy()`. The policy ARN is extracted from the response and printed."
   ]
  },
  {
   "cell_type": "code",
   "execution_count": 334,
   "id": "49575f14-2519-41b0-a6c8-72f6c3aacf66",
   "metadata": {},
   "outputs": [
    {
     "name": "stdout",
     "output_type": "stream",
     "text": [
      "Policy 2 created successfully: arn:aws:iam::675379425271:policy/AmazonBedrockOSSPolicyForKnowledgeBasedeepseek1uvkkpbq2tv\n"
     ]
    }
   ],
   "source": [
    "\n",
    "policy_name_2 = 'AmazonBedrockOSSPolicyForKnowledgeBasedeepseek1'+str(generated_uuid)\n",
    "policy_document_2 = {\n",
    "    \"Version\": \"2012-10-17\",\n",
    "    \"Statement\": [\n",
    "        {\n",
    "            \"Sid\": \"OpenSearchServerlessAPIAccessAllStatement\",\n",
    "            \"Effect\": \"Allow\",\n",
    "            \"Action\": [\n",
    "                \"aoss:APIAccessAll\"\n",
    "            ],\n",
    "            \"Resource\": [\n",
    "                collection_Arn\n",
    "            ]\n",
    "        }\n",
    "    ]\n",
    "}\n",
    "policy_document_json_2 = json.dumps(policy_document_2)\n",
    "policy_response_2 = iam_client.create_policy(\n",
    "    PolicyName=policy_name_2,\n",
    "    PolicyDocument=policy_document_json_2,\n",
    "    Description='This policy allows knowledge base agent '+knowledge_base_name +' to access open search serverless collection'\n",
    ")\n",
    "policy_arn_2 = policy_response_2['Policy']['Arn']\n",
    "print(f\"Policy 2 created successfully: {policy_arn_2}\")\n"
   ]
  },
  {
   "cell_type": "markdown",
   "id": "3fe4d2bd-b5ee-49a4-b16d-0091642ec526",
   "metadata": {},
   "source": [
    "This snippet creates an IAM policy that grants access to an S3 bucket. It defines the policy document to allow `s3:ListBucket` and `s3:GetObject` actions on the specified `bucket_name`, with conditions to restrict access to the specified `account_id`. The policy is then created using `iam_client.create_policy()`, and the policy ARN is printed."
   ]
  },
  {
   "cell_type": "code",
   "execution_count": 335,
   "id": "f75fb114-840e-42eb-bc72-32c1ce7cbb6c",
   "metadata": {},
   "outputs": [
    {
     "name": "stdout",
     "output_type": "stream",
     "text": [
      "Policy 3 created successfully: arn:aws:iam::675379425271:policy/AmazonBedrockS3PolicyForKnowledgeBasedeepseek1uvkkpbq2tv\n"
     ]
    }
   ],
   "source": [
    "\n",
    "policy_name_3 = 'AmazonBedrockS3PolicyForKnowledgeBasedeepseek1'+str(generated_uuid)\n",
    "policy_document_3 = {\n",
    "    \"Version\": \"2012-10-17\",\n",
    "    \"Statement\": [\n",
    "        {\n",
    "            \"Sid\": \"S3ListBucketStatement\",\n",
    "            \"Effect\": \"Allow\",\n",
    "            \"Action\": [\n",
    "                \"s3:ListBucket\"\n",
    "            ],\n",
    "            \"Resource\": [\n",
    "                \"arn:aws:s3:::\"+bucket_name\n",
    "            ],\n",
    "            \"Condition\": {\n",
    "                \"StringEquals\": {\n",
    "                    \"aws:ResourceAccount\": [\n",
    "                        account_id\n",
    "                    ]\n",
    "                }\n",
    "            }\n",
    "        },\n",
    "        {\n",
    "            \"Sid\": \"S3GetObjectStatement\",\n",
    "            \"Effect\": \"Allow\",\n",
    "            \"Action\": [\n",
    "                \"s3:GetObject\"\n",
    "            ],\n",
    "            \"Resource\": [\n",
    "                f\"arn:aws:s3:::{bucket_name}/*\"\n",
    "            ],\n",
    "            \"Condition\": {\n",
    "                \"StringEquals\": {\n",
    "                    \"aws:ResourceAccount\": [\n",
    "                        account_id\n",
    "                    ]\n",
    "                }\n",
    "            }\n",
    "        }\n",
    "    ]\n",
    "}\n",
    "\n",
    "\n",
    "\n",
    "\n",
    "# Convert policy documents to JSON format\n",
    "policy_document_json_3 = json.dumps(policy_document_3)\n",
    "policy_response_3 = iam_client.create_policy(\n",
    "    PolicyName=policy_name_3,\n",
    "    PolicyDocument=policy_document_json_3,\n",
    "    Description='This policy allows knowledge base agent '+knowledge_base_name +' to access s3'\n",
    ")\n",
    "policy_arn_3 = policy_response_3['Policy']['Arn']\n",
    "print(f\"Policy 3 created successfully: {policy_arn_3}\")"
   ]
  },
  {
   "cell_type": "markdown",
   "id": "44c79ee3-88ed-4bf8-8675-7e98e5607979",
   "metadata": {},
   "source": [
    "This snippet creates an IAM role with a trust policy allowing Amazon Bedrock to assume the role. The trust relationship is defined to permit `sts:AssumeRole` from the specified `account_id` and `knowledge-base` ARN. The role is created using `iam_client.create_role()`, and the role ARN is printed."
   ]
  },
  {
   "cell_type": "code",
   "execution_count": 336,
   "id": "c618964b-7034-4819-99e2-b13c44929d5c",
   "metadata": {},
   "outputs": [
    {
     "name": "stdout",
     "output_type": "stream",
     "text": [
      "Role created successfully: arn:aws:iam::675379425271:role/knowledge_base_roleuvkkpbq2tv\n"
     ]
    }
   ],
   "source": [
    "# Define the role trust relationship document (assume-role policy)\n",
    "assume_role_policy_document = {\n",
    "    \"Version\": \"2012-10-17\",\n",
    "    \"Statement\": [\n",
    "        {\n",
    "            \"Sid\": \"AmazonBedrockKnowledgeBaseTrustPolicy\",\n",
    "            \"Effect\": \"Allow\",\n",
    "            \"Principal\": {\n",
    "                \"Service\": \"bedrock.amazonaws.com\"\n",
    "            },\n",
    "            \"Action\": \"sts:AssumeRole\",\n",
    "            \"Condition\": {\n",
    "                \"StringEquals\": {\n",
    "                    \"aws:SourceAccount\": account_id\n",
    "                },\n",
    "                \"ArnLike\": {\n",
    "                    \"aws:SourceArn\": \"arn:aws:bedrock:ap-south-1:\"+account_id+\":knowledge-base/*\"\n",
    "                }\n",
    "            }\n",
    "        }\n",
    "    ]\n",
    "}\n",
    "# # Convert assume role policy to JSON format\n",
    "assume_role_policy_json = json.dumps(assume_role_policy_document)\n",
    "\n",
    "# # Define role name\n",
    "role_name = 'knowledge_base_role'+str(generated_uuid)\n",
    "role_response = iam_client.create_role(\n",
    "        RoleName=role_name,\n",
    "        AssumeRolePolicyDocument=assume_role_policy_json,\n",
    "        Description='Role for knowledge base agent ' +knowledge_base_name\n",
    "    )\n",
    "role_arn = role_response['Role']['Arn']\n",
    "print(f\"Role created successfully: {role_arn}\")"
   ]
  },
  {
   "cell_type": "markdown",
   "id": "2baa1b8d-5979-431b-a7de-43f22869e651",
   "metadata": {},
   "source": [
    "This snippet attaches three previously created IAM policies (`policy_arn_1`, `policy_arn_2`, and `policy_arn_3`) to the specified IAM role (`role_name`) using `iam_client.attach_role_policy()`. It then prints a success message."
   ]
  },
  {
   "cell_type": "code",
   "execution_count": 337,
   "id": "b88b274f-55d8-4065-9477-e0725525651b",
   "metadata": {},
   "outputs": [
    {
     "name": "stdout",
     "output_type": "stream",
     "text": [
      "All policies attached successfully to the role knowledge_base_roleuvkkpbq2tv\n"
     ]
    }
   ],
   "source": [
    "\n",
    "# Step 3: Attach the created policies to the role\n",
    "iam_client.attach_role_policy(RoleName=role_name, PolicyArn=policy_arn_1)\n",
    "iam_client.attach_role_policy(RoleName=role_name, PolicyArn=policy_arn_2)\n",
    "iam_client.attach_role_policy(RoleName=role_name, PolicyArn=policy_arn_3)\n",
    "\n",
    "print(f\"All policies attached successfully to the role {role_name}\")\n",
    "\n"
   ]
  },
  {
   "cell_type": "markdown",
   "id": "06c9ff52-188d-4fd5-871c-f3fff2c9724a",
   "metadata": {},
   "source": [
    "This snippet extracts the ARN of a newly created IAM role (`role_arn`) from the `role_response` and defines a variable (`Opensearch_indexname`) with the name of an OpenSearch index."
   ]
  },
  {
   "cell_type": "code",
   "execution_count": 338,
   "id": "b2c8f115-861e-4d19-9f20-904e8d561d92",
   "metadata": {},
   "outputs": [],
   "source": [
    "role_arn = role_response['Role']['Arn']\n",
    "\n",
    "#specify index name\n",
    "Opensearch_indexname = \"deepseek-index\"+str(generated_uuid)"
   ]
  },
  {
   "cell_type": "markdown",
   "id": "022197c9-0992-4af1-9459-c6121c0f0723",
   "metadata": {},
   "source": [
    "This snippet creates an OpenSearch data access policy by defining permissions for interacting with a collection and index. It grants specific actions (like create, update, delete, and read) on the OpenSearch collection and index resources to a specified role and service role. The policy is then applied using the `create_access_policy` method from the OpenSearch client."
   ]
  },
  {
   "cell_type": "code",
   "execution_count": null,
   "id": "504e77db-71c0-4ad9-bf84-18334062bb98",
   "metadata": {},
   "outputs": [],
   "source": [
    "import time\n",
    "opensearch_policy_name = f\"kb-policy-\"+str(generated_uuid)\n",
    "#Define data access policy\n",
    "opensearch_policy_document = [\n",
    "  {\n",
    "    \"Rules\": [\n",
    "      {\n",
    "        \"Resource\": [\n",
    "          f\"collection/{opensearch_collection_name}\"\n",
    "        ],\n",
    "        \"Permission\": [\n",
    "          \"aoss:CreateCollectionItems\",\n",
    "          \"aoss:DeleteCollectionItems\",\n",
    "          \"aoss:UpdateCollectionItems\",\n",
    "          \"aoss:DescribeCollectionItems\"\n",
    "        ],\n",
    "        \"ResourceType\": \"collection\"\n",
    "      },\n",
    "      {\n",
    "        \"Resource\": [\n",
    "          f\"index/{opensearch_collection_name}/*\"\n",
    "        ],\n",
    "        \"Permission\": [\n",
    "          \"aoss:CreateIndex\",\n",
    "          \"aoss:DeleteIndex\",\n",
    "          \"aoss:UpdateIndex\",\n",
    "          \"aoss:DescribeIndex\",\n",
    "          \"aoss:ReadDocument\",\n",
    "          \"aoss:WriteDocument\"\n",
    "        ],\n",
    "        \"ResourceType\": \"index\"\n",
    "      }\n",
    "    ],\n",
    "    \"Principal\": [\n",
    "        role_arn,\n",
    "        service_role        \n",
    "    ],\n",
    "    \"Description\": \"Rule 1\"\n",
    "  }\n",
    "]\n",
    "opensearch_client.create_access_policy(\n",
    "    name=opensearch_policy_name,\n",
    "    type='data',\n",
    "    description='Access policy for knowledge base',\n",
    "    policy=json.dumps(opensearch_policy_document)\n",
    ")\n",
    "time.sleep(20)"
   ]
  },
  {
   "cell_type": "markdown",
   "id": "74712207-1b86-4997-b2ab-a4f96db12776",
   "metadata": {},
   "source": [
    "This snippet connects to an OpenSearch endpoint using AWS credentials and AWS4Auth for secure access. It defines a request body to create an OpenSearch index with KNN (K-Nearest Neighbors) search enabled, using a specified model dimension and FAISS as the search engine. It then creates the index on the OpenSearch server and prints the response."
   ]
  },
  {
   "cell_type": "code",
   "execution_count": 340,
   "id": "ab12adcb-d022-484a-b2d4-8468834356d3",
   "metadata": {},
   "outputs": [
    {
     "data": {
      "text/html": [
       "<pre style=\"white-space:pre;overflow-x:auto;line-height:normal;font-family:Menlo,'DejaVu Sans Mono',consolas,'Courier New',monospace\"><span style=\"color: #7fbfbf; text-decoration-color: #7fbfbf\">[03/04/25 13:59:20] </span><span style=\"color: #0069ff; text-decoration-color: #0069ff; font-weight: bold\">INFO    </span> Found credentials from IAM Role:                                   <a href=\"file:///home/ec2-user/anaconda3/envs/python3/lib/python3.10/site-packages/botocore/credentials.py\" target=\"_blank\"><span style=\"color: #7f7f7f; text-decoration-color: #7f7f7f\">credentials.py</span></a><span style=\"color: #7f7f7f; text-decoration-color: #7f7f7f\">:</span><a href=\"file:///home/ec2-user/anaconda3/envs/python3/lib/python3.10/site-packages/botocore/credentials.py#1132\" target=\"_blank\"><span style=\"color: #7f7f7f; text-decoration-color: #7f7f7f\">1132</span></a>\n",
       "<span style=\"color: #7fbfbf; text-decoration-color: #7fbfbf\">                    </span>         BaseNotebookInstanceEc2InstanceRole                                <span style=\"color: #7f7f7f; text-decoration-color: #7f7f7f\">                   </span>\n",
       "</pre>\n"
      ],
      "text/plain": [
       "\u001b[2;36m[03/04/25 13:59:20]\u001b[0m\u001b[2;36m \u001b[0m\u001b[1;38;2;0;105;255mINFO    \u001b[0m Found credentials from IAM Role:                                   \u001b]8;id=236656;file:///home/ec2-user/anaconda3/envs/python3/lib/python3.10/site-packages/botocore/credentials.py\u001b\\\u001b[2mcredentials.py\u001b[0m\u001b]8;;\u001b\\\u001b[2m:\u001b[0m\u001b]8;id=746330;file:///home/ec2-user/anaconda3/envs/python3/lib/python3.10/site-packages/botocore/credentials.py#1132\u001b\\\u001b[2m1132\u001b[0m\u001b]8;;\u001b\\\n",
       "\u001b[2;36m                    \u001b[0m         BaseNotebookInstanceEc2InstanceRole                                \u001b[2m                   \u001b[0m\n"
      ]
     },
     "metadata": {},
     "output_type": "display_data"
    },
    {
     "data": {
      "text/html": [
       "<pre style=\"white-space:pre;overflow-x:auto;line-height:normal;font-family:Menlo,'DejaVu Sans Mono',consolas,'Courier New',monospace\"><span style=\"color: #7fbfbf; text-decoration-color: #7fbfbf\">                    </span><span style=\"color: #0069ff; text-decoration-color: #0069ff; font-weight: bold\">INFO    </span> <span style=\"color: #d7af00; text-decoration-color: #d7af00; font-weight: bold\">PUT</span>                                                                        <a href=\"file:///home/ec2-user/anaconda3/envs/python3/lib/python3.10/site-packages/opensearchpy/connection/base.py\" target=\"_blank\"><span style=\"color: #7f7f7f; text-decoration-color: #7f7f7f\">base.py</span></a><span style=\"color: #7f7f7f; text-decoration-color: #7f7f7f\">:</span><a href=\"file:///home/ec2-user/anaconda3/envs/python3/lib/python3.10/site-packages/opensearchpy/connection/base.py#258\" target=\"_blank\"><span style=\"color: #7f7f7f; text-decoration-color: #7f7f7f\">258</span></a>\n",
       "<span style=\"color: #7fbfbf; text-decoration-color: #7fbfbf\">                    </span>         <span style=\"color: #0069ff; text-decoration-color: #0069ff; text-decoration: underline\">https://32cyd54lqv995lcitz90.ap-south-1.aoss.amazonaws.com:443/deepseek-in</span> <span style=\"color: #7f7f7f; text-decoration-color: #7f7f7f\">           </span>\n",
       "<span style=\"color: #7fbfbf; text-decoration-color: #7fbfbf\">                    </span>         <span style=\"color: #0069ff; text-decoration-color: #0069ff; text-decoration: underline\">dexuvkkpbq2tv</span>                                                              <span style=\"color: #7f7f7f; text-decoration-color: #7f7f7f\">           </span>\n",
       "</pre>\n"
      ],
      "text/plain": [
       "\u001b[2;36m                   \u001b[0m\u001b[2;36m \u001b[0m\u001b[1;38;2;0;105;255mINFO    \u001b[0m \u001b[1;38;2;215;175;0mPUT\u001b[0m                                                                        \u001b]8;id=251063;file:///home/ec2-user/anaconda3/envs/python3/lib/python3.10/site-packages/opensearchpy/connection/base.py\u001b\\\u001b[2mbase.py\u001b[0m\u001b]8;;\u001b\\\u001b[2m:\u001b[0m\u001b]8;id=208939;file:///home/ec2-user/anaconda3/envs/python3/lib/python3.10/site-packages/opensearchpy/connection/base.py#258\u001b\\\u001b[2m258\u001b[0m\u001b]8;;\u001b\\\n",
       "\u001b[2;36m                    \u001b[0m         \u001b[4;38;2;0;105;255mhttps://32cyd54lqv995lcitz90.ap-south-1.aoss.amazonaws.com:443/deepseek-in\u001b[0m \u001b[2m           \u001b[0m\n",
       "\u001b[2;36m                    \u001b[0m         \u001b[4;38;2;0;105;255mdexuvkkpbq2tv\u001b[0m                                                              \u001b[2m           \u001b[0m\n"
      ]
     },
     "metadata": {},
     "output_type": "display_data"
    },
    {
     "name": "stdout",
     "output_type": "stream",
     "text": [
      "{'acknowledged': True, 'shards_acknowledged': True, 'index': 'deepseek-indexuvkkpbq2tv'}\n"
     ]
    }
   ],
   "source": [
    "from requests_aws4auth import AWS4Auth\n",
    "from opensearchpy import OpenSearch, RequestsHttpConnection\n",
    "import boto3\n",
    "\n",
    "session = boto3.Session()\n",
    "credentials = session.get_credentials()\n",
    "awsauth = AWS4Auth(\n",
    "        credentials.access_key,\n",
    "        credentials.secret_key,\n",
    "        'ap-south-1',\n",
    "        'aoss',\n",
    "        session_token=credentials.token\n",
    "    )\n",
    "index_client = OpenSearch(              \n",
    "        hosts=[{'host': opensearch_endpoint, 'port': 443}],\n",
    "        http_auth=awsauth,\n",
    "        use_ssl=True,\n",
    "        verify_certs=True,\n",
    "        http_compress=True,  # enables gzip compression for request bodies\n",
    "        connection_class=RequestsHttpConnection\n",
    "    )\n",
    "# Define the request body\n",
    "request_body ={\n",
    "\"settings\": {\n",
    "\"index\": {\n",
    "  \"knn\": True,\n",
    "  \"knn.algo_param.ef_search\": 512\n",
    "}\n",
    "},\n",
    "\"mappings\": {\n",
    "\"properties\": {\n",
    "  Opensearch_indexname: {\n",
    "    \"type\": \"knn_vector\",                        \n",
    "    \"dimension\": Titan_embedding_model_dimension,\n",
    "    \"method\": {\n",
    "      \"name\": \"hnsw\",\n",
    "      \"engine\": \"faiss\",\n",
    "      \"parameters\": {},\n",
    "      \"space_type\": \"l2\"\n",
    "    }\n",
    "  }\n",
    "}            \n",
    "}\n",
    "}   \n",
    "opensearch_index_response = index_client.indices.create(\n",
    "      index=Opensearch_indexname,                                  \n",
    "      body=request_body\n",
    "  )\n",
    "print(opensearch_index_response)"
   ]
  },
  {
   "cell_type": "markdown",
   "id": "c38ccb06-f3f9-4f79-a045-b446f40418cf",
   "metadata": {},
   "source": [
    "This snippet uses the `boto3` library to create a knowledge base in AWS Bedrock. It configures the knowledge base as a vector-based system using the provided embedding model ARN and associates it with an OpenSearch Serverless collection's index. It also specifies the knowledge base role ARN and OpenSearch configuration for storage. The knowledge base creation response is printed."
   ]
  },
  {
   "cell_type": "code",
   "execution_count": 341,
   "id": "65c07fee-2f11-488f-9891-1d5fea5c56cd",
   "metadata": {},
   "outputs": [
    {
     "name": "stdout",
     "output_type": "stream",
     "text": [
      "{'ResponseMetadata': {'RequestId': 'c202b4d9-bf68-44dc-978f-94d70982a8ad', 'HTTPStatusCode': 202, 'HTTPHeaders': {'date': 'Tue, 04 Mar 2025 13:59:36 GMT', 'content-type': 'application/json', 'content-length': '899', 'connection': 'keep-alive', 'x-amzn-requestid': 'c202b4d9-bf68-44dc-978f-94d70982a8ad', 'x-amz-apigw-id': 'G54S5Gu6hcwEOoA=', 'x-amzn-trace-id': 'Root=1-67c70745-2412c4650a8462a16a390751'}, 'RetryAttempts': 0}, 'knowledgeBase': {'createdAt': datetime.datetime(2025, 3, 4, 13, 59, 33, 461757, tzinfo=tzlocal()), 'knowledgeBaseArn': 'arn:aws:bedrock:ap-south-1:675379425271:knowledge-base/55VU1H823F', 'knowledgeBaseConfiguration': {'type': 'VECTOR', 'vectorKnowledgeBaseConfiguration': {'embeddingModelArn': 'arn:aws:bedrock:ap-south-1::foundation-model/amazon.titan-embed-text-v2:0'}}, 'knowledgeBaseId': '55VU1H823F', 'name': 'deepseek-demouvkkpbq2tv', 'roleArn': 'arn:aws:iam::675379425271:role/knowledge_base_roleuvkkpbq2tv', 'status': 'CREATING', 'storageConfiguration': {'opensearchServerlessConfiguration': {'collectionArn': 'arn:aws:aoss:ap-south-1:675379425271:collection/32cyd54lqv995lcitz90', 'fieldMapping': {'metadataField': 'AMAZON_BEDROCK_METADATA', 'textField': 'AMAZON_BEDROCK_TEXT_CHUNK', 'vectorField': 'deepseek-indexuvkkpbq2tv'}, 'vectorIndexName': 'deepseek-indexuvkkpbq2tv'}, 'type': 'OPENSEARCH_SERVERLESS'}, 'updatedAt': datetime.datetime(2025, 3, 4, 13, 59, 33, 461757, tzinfo=tzlocal())}}\n"
     ]
    }
   ],
   "source": [
    "bedrock_client = boto3.client('bedrock-agent')\n",
    "\n",
    "knowledge_base_creation = bedrock_client.create_knowledge_base(\n",
    "    knowledgeBaseConfiguration={\n",
    "        'type': 'VECTOR',\n",
    "        'vectorKnowledgeBaseConfiguration': {\n",
    "            'embeddingModelArn': titan_embedding_arn\n",
    "        }\n",
    "    },\n",
    "    name=knowledge_base_name,\n",
    "    roleArn=role_arn,\n",
    "    storageConfiguration={\n",
    "        'opensearchServerlessConfiguration': {\n",
    "            'collectionArn': collection_Arn,\n",
    "            'fieldMapping': {\n",
    "                'metadataField': 'AMAZON_BEDROCK_METADATA',\n",
    "                'textField': 'AMAZON_BEDROCK_TEXT_CHUNK',\n",
    "                'vectorField': Opensearch_indexname\n",
    "            },\n",
    "            'vectorIndexName': Opensearch_indexname\n",
    "        },\n",
    "\n",
    "        'type': 'OPENSEARCH_SERVERLESS'\n",
    "    },\n",
    ")\n",
    "print(knowledge_base_creation)\n"
   ]
  },
  {
   "cell_type": "markdown",
   "id": "94fc436c-9084-402b-9337-1a79d09bc0a4",
   "metadata": {},
   "source": [
    "This snippet extracts and prints the `knowledgeBaseId` from the response of the `create_knowledge_base` API call in AWS Bedrock."
   ]
  },
  {
   "cell_type": "code",
   "execution_count": 342,
   "id": "9f94ed99-891b-483d-9ab3-3daa9e12c98f",
   "metadata": {},
   "outputs": [
    {
     "name": "stdout",
     "output_type": "stream",
     "text": [
      "55VU1H823F\n"
     ]
    }
   ],
   "source": [
    "knowledge_base_id = knowledge_base_creation['knowledgeBase']['knowledgeBaseId']\n",
    "print(knowledge_base_id)"
   ]
  },
  {
   "cell_type": "markdown",
   "id": "f515bd71-1d6e-41d6-b7b7-3197f008b196",
   "metadata": {},
   "source": [
    "This snippet retrieves and prints the status of the knowledge base using its `knowledgeBaseId` with the `get_knowledge_base` API call in AWS Bedrock."
   ]
  },
  {
   "cell_type": "code",
   "execution_count": 343,
   "id": "7d8e5cb8-baaa-4279-ad1e-5c2c3317afce",
   "metadata": {},
   "outputs": [
    {
     "name": "stdout",
     "output_type": "stream",
     "text": [
      "{'ResponseMetadata': {'RequestId': '0222f7dc-c0ed-430e-a690-1824c9788344', 'HTTPStatusCode': 200, 'HTTPHeaders': {'date': 'Tue, 04 Mar 2025 13:59:53 GMT', 'content-type': 'application/json', 'content-length': '897', 'connection': 'keep-alive', 'x-amzn-requestid': '0222f7dc-c0ed-430e-a690-1824c9788344', 'x-amz-apigw-id': 'G54WDE7ShcwEP5g=', 'x-amzn-trace-id': 'Root=1-67c70759-689d9e004b25bbe2203a0fd4'}, 'RetryAttempts': 0}, 'knowledgeBase': {'createdAt': datetime.datetime(2025, 3, 4, 13, 59, 33, 461757, tzinfo=tzlocal()), 'knowledgeBaseArn': 'arn:aws:bedrock:ap-south-1:675379425271:knowledge-base/55VU1H823F', 'knowledgeBaseConfiguration': {'type': 'VECTOR', 'vectorKnowledgeBaseConfiguration': {'embeddingModelArn': 'arn:aws:bedrock:ap-south-1::foundation-model/amazon.titan-embed-text-v2:0'}}, 'knowledgeBaseId': '55VU1H823F', 'name': 'deepseek-demouvkkpbq2tv', 'roleArn': 'arn:aws:iam::675379425271:role/knowledge_base_roleuvkkpbq2tv', 'status': 'ACTIVE', 'storageConfiguration': {'opensearchServerlessConfiguration': {'collectionArn': 'arn:aws:aoss:ap-south-1:675379425271:collection/32cyd54lqv995lcitz90', 'fieldMapping': {'metadataField': 'AMAZON_BEDROCK_METADATA', 'textField': 'AMAZON_BEDROCK_TEXT_CHUNK', 'vectorField': 'deepseek-indexuvkkpbq2tv'}, 'vectorIndexName': 'deepseek-indexuvkkpbq2tv'}, 'type': 'OPENSEARCH_SERVERLESS'}, 'updatedAt': datetime.datetime(2025, 3, 4, 13, 59, 33, 461757, tzinfo=tzlocal())}}\n"
     ]
    }
   ],
   "source": [
    "\n",
    "knowledge_base_status = bedrock_client.get_knowledge_base(\n",
    "                    knowledgeBaseId=knowledge_base_id\n",
    "                )\n",
    "print(knowledge_base_status)"
   ]
  },
  {
   "cell_type": "markdown",
   "id": "2be8360c-6f20-4c94-8387-5bdcfb68ae44",
   "metadata": {},
   "source": [
    "This snippet creates a data source for a knowledge base in AWS Bedrock, with the source being an S3 bucket. It defines a fixed-size chunking strategy for ingestion with specified token limit and overlap percentage. The data source is associated with the knowledge base using its `knowledgeBaseId`."
   ]
  },
  {
   "cell_type": "code",
   "execution_count": 344,
   "id": "23e0058b-d575-40a7-98b6-1978e5436fd7",
   "metadata": {},
   "outputs": [],
   "source": [
    "#Datasource creation in Knowledge base\n",
    "max_tokens = 1024\n",
    "\n",
    "#specify datasource_name\n",
    "datasource_name ='deepseek_datasource'+str(generated_uuid)\n",
    "\n",
    "\n",
    "datasource_response = bedrock_client.create_data_source(\n",
    "                    dataDeletionPolicy='DELETE',\n",
    "                    dataSourceConfiguration={\n",
    "                        's3Configuration': {\n",
    "                            'bucketArn': f'arn:aws:s3:::{bucket_name}'\n",
    "                        },\n",
    "                        'type': 'S3'\n",
    "                    },\n",
    "                    description=f'Datasource for knowledge base',\n",
    "                    knowledgeBaseId=knowledge_base_id,\n",
    "                    name=datasource_name,\n",
    "\n",
    "                    vectorIngestionConfiguration={\n",
    "                        'chunkingConfiguration': {\n",
    "                            'chunkingStrategy': 'FIXED_SIZE',\n",
    "                            'fixedSizeChunkingConfiguration': {\n",
    "                                'maxTokens': max_tokens,\n",
    "                                'overlapPercentage': 20\n",
    "                            }\n",
    "                        }\n",
    "                    }\n",
    "                )"
   ]
  },
  {
   "cell_type": "markdown",
   "id": "73f8a06e-f420-4b06-a097-755e8e0ce03d",
   "metadata": {},
   "source": [
    "This snippet extracts the datasource_id from datasource_response"
   ]
  },
  {
   "cell_type": "code",
   "execution_count": 345,
   "id": "974b49c5-7eeb-4b8f-a3d7-dc43bfee7eca",
   "metadata": {},
   "outputs": [],
   "source": [
    "datasource_id = datasource_response['dataSource']['dataSourceId']"
   ]
  },
  {
   "cell_type": "markdown",
   "id": "de05593c-252d-4dd7-81f8-1b1df1dde08b",
   "metadata": {},
   "source": [
    "This snippet starts an ingestion job to ingest the documents in the specified s3 bucket, into the knowledge base created, using the specified data source ID. It retrieves the ingestion job ID from the response to track the job."
   ]
  },
  {
   "cell_type": "code",
   "execution_count": 346,
   "id": "ac1a2f6a-cb11-4b53-aa30-57e99448d875",
   "metadata": {},
   "outputs": [],
   "source": [
    "client_bedrock_agent = boto3.client('bedrock-agent')\n",
    "start_ingestion_response = client_bedrock_agent.start_ingestion_job(                                            \n",
    "                knowledgeBaseId=knowledge_base_id,\n",
    "                dataSourceId=datasource_id,\n",
    "            )\n",
    "ingestion_job_id = start_ingestion_response['ingestionJob']['ingestionJobId']\n",
    "            "
   ]
  },
  {
   "cell_type": "markdown",
   "id": "3e1e2697-3777-462c-8117-a47ee2e8d0b0",
   "metadata": {},
   "source": [
    "This snippet checks the status of an ingestion job in AWS Bedrock by querying the ingestion job using the data source ID, job ID, and knowledge base ID. It then prints the job's status."
   ]
  },
  {
   "cell_type": "code",
   "execution_count": 347,
   "id": "75af28d5-b7fa-41d8-b168-d6f4fe6edb92",
   "metadata": {},
   "outputs": [
    {
     "name": "stdout",
     "output_type": "stream",
     "text": [
      "Status for ingestion job ID HBBYOR0YUK: COMPLETE\n"
     ]
    }
   ],
   "source": [
    " response = client_bedrock_agent.get_ingestion_job(\n",
    "                dataSourceId=datasource_id,\n",
    "                ingestionJobId=ingestion_job_id,\n",
    "                knowledgeBaseId=knowledge_base_id\n",
    "            )\n",
    "status = response['ingestionJob']['status']\n",
    "print(f\"Status for ingestion job ID {ingestion_job_id}: {status}\")"
   ]
  },
  {
   "cell_type": "markdown",
   "id": "66318da1-4d67-4394-b99e-cd1b0de73f4a",
   "metadata": {},
   "source": [
    "This snippet retrieves the top 10 results from a knowledge base in AWS Bedrock using a user's query. It performs a hybrid vector search to return relevant results."
   ]
  },
  {
   "cell_type": "code",
   "execution_count": 354,
   "id": "7acbfdac-6632-4370-9c98-aeb690c4056a",
   "metadata": {},
   "outputs": [],
   "source": [
    "retrieve_client = boto3.client(\"bedrock-agent-runtime\")\n",
    "user_question = \"kuching tourist places list\"\n",
    "#retrieve\n",
    "response_chunks = retrieve_client.retrieve(\n",
    "            retrievalQuery={                                                                                \n",
    "            'text': user_question\n",
    "            },\n",
    "            knowledgeBaseId = knowledge_base_id,\n",
    "            retrievalConfiguration={\n",
    "                'vectorSearchConfiguration': {\n",
    "                    'numberOfResults': 10,                                                                                              \n",
    "                    'overrideSearchType': 'HYBRID'\n",
    "                }\n",
    "                }\n",
    "            )  "
   ]
  },
  {
   "cell_type": "markdown",
   "id": "b14484cf-ce48-460b-b78f-03b5aaacbce2",
   "metadata": {},
   "source": [
    "This snippet extracts the text content from the retrieval results of the previous Bedrock query and appends each chunk's text into a list (`chunks_list`)."
   ]
  },
  {
   "cell_type": "code",
   "execution_count": 355,
   "id": "1b01a121-79ba-4592-9444-2193f50978b4",
   "metadata": {},
   "outputs": [],
   "source": [
    "chunks_list = []\n",
    "for chunks in response_chunks['retrievalResults']:  \n",
    "    chunks_list.append(chunks['content']['text'])"
   ]
  },
  {
   "cell_type": "code",
   "execution_count": 356,
   "id": "23ae0ed5-7a7b-4c75-8d27-5af421bb9ede",
   "metadata": {},
   "outputs": [
    {
     "data": {
      "text/plain": [
       "['travel_destination,itinerary_name,overview,tourist_attraction_names,tourist_attraction_description,address\\r Kuching & Outskirts,Foreword - Introduction,\"Welcome to Kuching: City of Unity and the beautiful capital of Sarawak. Come experience the city\\'s breadth of culture, adventure, nature, food and festival offerings and discover many aspects that make this city truly unique. Kuching\\'s cityscape is a beautiful mixture of classic Colonial Era shophouses and monuments, as well as modern high risers, contrasted with evergreen trees and shrubs lining the city streets, keeping Kuching green and pleasant. Enjoy the sights and sounds of Kuching City. Revel in its exemplary racial and religious harmony, and unity in diversity. Relish iconic cuisines, some of which are world famous. Venture further out to discover pristine nature and a world of adventures, creating precious memories that will forever be etched in your heart. Come spend a weekend in Kuching and discover extraordinary experiences. Yours truly, Dato Sri Haji Abdul Karim Rahman Hamzah Minister of Tourism, Arts & Culture Sarawak (MTAC) Five star resorts and hotels to longhouse homestays available Car Rental Available https://sarawak.travel/\",\"Fort Margherita, Cat Statue, Sarawak State Legislative Assembly\",,\\r Kuching & Outskirts,Kuching Self Explore,,Old Courthouse,\"Served as the city\\'s administrative centre in the late 19th century, it now houses a cafe and bar, the Ranee Museum and several venues for art and performance...\",\"Old Courthouse 7, Jalan Barrack, 93000 Kuching, Sarawak\"\\r Kuching & Outskirts,Kuching Self Explore,,Darul Hana Bridge,\"Pedestrian bridge known for its dynamic twisting shape that resembles the letter \\'S\\' (for Sarawak), with a viewing area & coloured night lights...\",\"Darul Hana Bridge, 93050 Kuching, Sarawak\"\\r Kuching & Outskirts,Kuching Self Explore,,Square Tower,,\"Jalan Gambier, Jalan Main Bazaar, 93000 Kuching, Sarawak\"\\r Kuching & Outskirts,Kuching Self Explore,,Floating Mosque,,\"Floating Mosque 93000 Kuching, Sarawak\"\\r Kuching & Outskirts,Kuching Self Explore,,Sarawak State Legislative Assembly,,\"New Sarawak State Legislative Assembly Building, Petra Jaya, 93050 Kuching, Sarawak\"\\r Kuching & Outskirts,Kuching Self Explore,,The Astana,,\"The Astana, Pejabat Yang di-Pertua Negeri, Petra Jaya, 93050 Kuching, Sarawak\"\\r Kuching & Outskirts,,,,Ride a sampan to continue to your next destination�,\\r Kuching & Outskirts,Kuching Self Explore,,Sarawak River Cruise,End your day with a sunset cruise!,\"Sawarak River Cruise Kuching Waterfront, 93000 Kuching, Sarawak\"\\r Kuching & Outskirts,Kuching Self Explore,,Islamic Heritage Museum,Learn more about historical heritage and culture of the Muslim community in Sarawak and throughout the Malay-Indonesian archipelago...,\"Sarawak Islamic Heritage Museum Jalan P. Ramlee, 93400 Kuching, Sarawak\"\\r Kuching & Outskirts,Kuching Self Explore,,St Thomas\\'s Cathedral,,\"St Thomas\\' Catherdral Jln McDougall, 93000 Kuching, Sarawak\"\\r Kuching & Outskirts,Kuching Self Explore,,Spice and textile market,\"Walk around to discover street arts, spices and textiles at the spice and textile market...\",\\r Kuching & Outskirts,Kuching Self Explore,,Songket & Keringkam Gallery,,\"Songket & Keringkam Gallery Jalan Masjid, 93400 Kuching, Sarawak, Malaysia\"\\r Kuching & Outskirts,Kuching Self Explore,,Carpenter Street,Try some banana fritters along this street. They\\'re SUPER crispy!!!',\n",
       " 'Nature lovers and adventurers, return time and time again for its thrill in outdoor adventures, be it hiking, kayaking or cycling.\",Borneo Highlands, A perfect place for a pre-wedding photoshoot�,\"Jalan Borneo Heights, 94200, Padawan, Kuching, Sarawak\"\\r Kuching & Outskirts,Padawan,\"Experience ecotourism at its best in Padawan. Nature lovers and adventurers, return time and time again for its thrill in outdoor adventures, be it hiking, kayaking or cycling.\",Semadang Kayak,,\"Kampung Semadang Jalan Puncak Borneo, 94200 Kuching, Sarawak\"\\r Kuching & Outskirts,Padawan,\"Experience ecotourism at its best in Padawan. Nature lovers and adventurers, return time and time again for its thrill in outdoor adventures, be it hiking, kayaking or cycling.\",Bengoh Dam,An untouched mountains landscape with some of the best views that look like a scene from Jurassic World�,\"Bengoh Dam 94700 Kuching, Sarawak\"\\r Kuching & Outskirts,Padawan,\"Experience ecotourism at its best in Padawan. Nature lovers and adventurers, return time and time again for its thrill in outdoor adventures, be it hiking, kayaking or cycling.\",Ban Buan Kukuot Waterfall,,\"Kampung Sadir, 94700 Kuching, Sarawak\"\\r Kuching & Outskirts,Night Time,\"There\\'s an endless number of dining scenes worth visiting after dark in Kuching. Depending on your mood, you can enjoy a pint of beer at the local bars, or grub on Lok-Lok and maybe sample Sarawak\\'s home grown Gula Apong ice cream while strolling down Kuching Waterfront.\",Fairland Hidden Cafe,,\"Fairland Hidden Cafe No 64, Carpenter St, 93000 Kuching, Sarawak\"\\r Kuching & Outskirts,Night Time,\"There\\'s an endless number of dining scenes worth visiting after dark in Kuching. Depending on your mood, you can enjoy a pint of beer at the local bars, or grub on Lok-Lok and maybe sample Sarawak\\'s home grown Gula Apong ice cream while strolling down Kuching Waterfront.\",Drunk Monkey Old Street Bar,Bar hopping starts here.,\"Drunk Monkey Old Street Bar 68, Carpenter St, 93000 Kuching, Sarawak\"\\r Kuching & Outskirts,Night Time,\"There\\'s an endless number of dining scenes worth visiting after dark in Kuching. Depending on your mood, you can enjoy a pint of beer at the local bars, or grub on Lok-Lok and maybe sample Sarawak\\'s home grown Gula Apong ice cream while strolling down Kuching Waterfront.\",Open Air Market,Head over here to grab late night munchies.,\"Open Air Market Jalan Market, 93000 Kuching, Sarawak\"\\r Kuching & Outskirts,Night Time,\"There\\'s an endless number of dining scenes worth visiting after dark in Kuching. Depending on your mood, you can enjoy a pint of beer at the local bars, or grub on Lok-Lok and maybe sample Sarawak\\'s home grown Gula Apong ice cream while strolling down Kuching Waterfront.\",The Wayang,Have a drink while enjoying live music.,\"The Wayang 86A, Jalan Tabuan, 93100 Kuching, Sarawak\"\\r Kuching & Outskirts,Night Time,\"There\\'s an endless number of dining scenes worth visiting after dark in Kuching. Depending on your mood, you can enjoy a pint of beer at the local bars, or grub on Lok-Lok and maybe sample Sarawak\\'s home grown Gula Apong ice cream while strolling down Kuching Waterfront.\",Kyushigai,,\"Kyushigai 77, Jalan Ban Hock, 93100 Kuching, Sarawak\"\\r Kuching & Outskirts,Night Time,\"There\\'s an endless number of dining scenes worth visiting after dark in Kuching. Depending on your mood, you can enjoy a pint of beer at the local bars, or grub on Lok-Lok and maybe sample Sarawak\\'s home grown Gula Apong ice cream while strolling down Kuching Waterfront.\",Souvenir Shopping,\"Bring back home more than memories of your travel to Kuching with exquisite travel gifts, such as Kek Lapis Sarawak, Sarawak black pepper, artisanal handwoven products, bird\\'s nest and Instant Sarawak laksa paste.',\n",
       " 'Whether you choose to check out crocodiles in Siburan, go caving in Serian, frogging in Matang, savour fresh seafood in Muara Tebas or hike in Bako, all these experiences are only about 40-50 minutes car ride away from Kuching city.\",Mount Matang Sri Maha Mariamman Temple,\"On a side note, visit another temple at Matang, which is just a 31 minutes\\' drive from Kuching.\",\"Mount Matang Sri Maha Mariamman Temple Kampung Matang, 93050 Kuching, Sarawak\"\\r Kuching & Outskirts,Adventures in Kuching,\"The outskirts of Kuching are full of magnetising attractions and thrilling adventures. Whether you choose to check out crocodiles in Siburan, go caving in Serian, frogging in Matang, savour fresh seafood in Muara Tebas or hike in Bako, all these experiences are only about 40-50 minutes car ride away from Kuching city.\",Kubah National Park,\"For frogging experience, head to Kubah National Park at night and visit the natural Frog Pond to see some of Kubah\\'s 60 frog species!\",\"Kubah National Park 93050 Kuching, Sarawak\"\\r Kuching & Outskirts,Adventures in Kuching,\"The outskirts of Kuching are full of magnetising attractions and thrilling adventures. Whether you choose to check out crocodiles in Siburan, go caving in Serian, frogging in Matang, savour fresh seafood in Muara Tebas or hike in Bako, all these experiences are only about 40-50 minutes car ride away from Kuching city.\",Silabur Cave,Feel the cool breeze from within Silabur cave and see its clearwaters.,\"Silabur Cave Tebakang, Serian, Sarawak\"\\r Kuching & Outskirts,Adventures in Kuching : Animal Lovers,,Matang Wildlife Centre,\"Visit the Matang Wildlife Centre to see Borneo\\'s majestic bird, Rhinoceros Hornbill.\",\"Matang Wildlife Centre Kampung Rayu, 93050 Kuching, Sarawak\"\\r Kuching & Outskirts,Adventures in Kuching :  Animal Lovers,,Jong\\'s Crocodile Farm,\"Witness crocodile feeding and check out the skull of the legendary Bujang Senang, the white-backed crocodile of Sarawak folklore at Jong\\'s Crocodile Farm.\",\"Jong\\'s Crocodile Farm Jalan Kuching - Serian, 94200 Siburan, Sarawak\"\\r Kuching & Outskirts,Adventures in Kuching : Animal Lovers,,Semenggoh Nature Reserve,\"Explore the perfect half-day trip experience to encounter Borneo\\'s endangered species, the Orang Utans at Semenggoh Nature Reserve.\",\"Semenggoh Nature Reserve KM 20, Borneo Highland Road 93250 Kuching, Sarawak\"\\r Kuching & Outskirts,Santubong,\"Just 35 minutes\\' drive away from Kuching, Santubong is well-known for its relaxing beach and stunning natural attractions. It has everything, from the rainforest-clad slopes of Mount Santubong, pristine turtle islands teeming with colourful marine life, a living museum and secluded resorts.\",Cove 55,\"Built originally as a holiday home for an Iban family, the sprawling villa is now reborn as an intimate retreat with 13 rooms, two suites and one villa. A luxurious private boutique hotel at the foot of Mount Santubong�\",\"Cove 55 93010 Kuching, Sarawak\"\\r Kuching & Outskirts,Santubong,\"Just 35 minutes\\' drive away from Kuching, Santubong is well-known for its relaxing beach and stunning natural attractions. It has everything, from the rainforest-clad slopes of Mount Santubong, pristine turtle islands teeming with colourful marine life, a living museum and secluded resorts.\",The Culvert,\"Outfitted with eco-friendly room designs and an array of facilities offering adventure and relaxation, the resort promises to take you  on a cultural journey of Sarawak\\'s rainforests and rejuvenate your weary soul�\",\"The Culvert Lot 285, Off Jalan Sultan Tengah, Block 2 Salak Land District, Santubong Damai, Kuching, Sarawak\"\\r Kuching & Outskirts,Santubong,\"Just 35 minutes\\' drive away from Kuching, Santubong is well-known for its relaxing beach and stunning natural attractions.',\n",
       " 'Learn about the Bidayuh\\'s heritage venture into impressive limestone caves and sample delicious street food, all in Bau.\",Tasik Biru,\"Formerly a gold quarry in the 1970\\'s, this man-made lake is a perfect tourism hot spot and a good place to rest and explore...\",\"Tasik Biru 94000 Bau, Sarawak\"\\r Kuching & Outskirts,Bau,\"A Once a gold mining town, Bau natural environment away embodies the best of both worlds: from the hustle and bustle nature and heritage. Learn about the Bidayuh\\'s heritage venture into impressive limestone caves and sample delicious street food, all in Bau.\",Bau Handicraft House,Get yourself a variety of beautiful authentic Bidayuh handicrafts made by skilled Bidayuh artisans and learn about their arts and culture...,\"Bau Handicraft House Pekan Bay, 94000 Bay, Sarawak\"\\r Kuching & Outskirts,Bau,\"A Once a gold mining town, Bau natural environment away embodies the best of both worlds: from the hustle and bustle nature and heritage. Learn about the Bidayuh\\'s heritage venture into impressive limestone caves and sample delicious street food, all in Bau.\",Bung Jagoi Heritage Centre,,\"Bung Jagoi Heritage Centre Kampung Jagoi Gunong, 94000 Bau, Sarawak\"\\r Kuching & Outskirts,Bau,\"A Once a gold mining town, Bau natural environment away embodies the best of both worlds: from the hustle and bustle nature and heritage. Learn about the Bidayuh\\'s heritage venture into impressive limestone caves and sample delicious street food, all in Bau.\",Siniawan Night Market,\"Buzzy. evening-only spot with hawker food stalls & casual eateries on atmospheric streets. Evening, Friday - Sunday only...\",\"Siniawan Old Town 94000 Siniawan, Sarawak\"\\r Kuching & Outskirts,Lundu & Sematan,,Sematan Jetty,,\"Sematan Jetty 94100 Sematan, Sarawak\"\\r Kuching & Outskirts,Lundu & Sematan,,Local Snacks,Buy some local snacks while driving around Lundu�,\\r Kuching & Outskirts,Lundu & Sematan,,Roxy Sematan Canopi,A relaxing modern hotel set between the peaceful town of Sematan and the silence of Telok Melano village...,\"Lots 7, 8, 9, 44 & 45, Pueh Land, 94100 Sematan, Sarawak\"\\r Kuching & Outskirts,Lundu & Sematan,,Tanjung Datu National Park,\"The long stretch of clean, white sandy beaches boasting azure waters makes Lundu & Sematan a popular getaway just one hour and a half drive away from Kuching. Here, visitors will get the chance to witness Rafflesia, the largest flower in the world, camp at the unspoilt Tanjung Datu National Park and bring home some tasty locally-made keropok (snacks).\",\"Tanjung Datu National Park 79466 Lundu, Sarawak\"\\r Kuching & Outskirts,Lundu & Sematan,,Gunung Gading National Park,,\"Gunung Gading National Park 94500 Lundu, Sarawak\"\\r Kuching & Outskirts,Lundu & Sematan,,Jangkar Waterfall,\"A waterfall hidden in the rainforest behind Kampung Jantan, Biawak..\",\"Jangkar Waterfall 94500 Lundu, Sarawak\"\\r Kuching & Outskirts,Padawan,\"Experience ecotourism at its best in Padawan. Nature lovers and adventurers, return time and time again for its thrill in outdoor adventures, be it hiking, kayaking or cycling.\",Annah Rais Bidayuh Longhouse,\"Once you arrive at the longhouse, take a dip at the nearby hotspring...\",\"No. 9, Kupo Saba, Kampung Annah Rais Longhouse, Jalan Borneo Height, 93250 Kuching, Sarawak\"\\r Kuching & Outskirts,Padawan,\"Experience ecotourism at its best in Padawan. Nature lovers and adventurers, return time and time again for its thrill in outdoor adventures, be it hiking, kayaking or cycling.\",Borneo Highlands, A perfect place for a pre-wedding photoshoot�,\"Jalan Borneo Heights, 94200, Padawan, Kuching, Sarawak\"\\r Kuching & Outskirts,Padawan,\"Experience ecotourism at its best in Padawan.',\n",
       " 'Depending on your mood, you can enjoy a pint of beer at the local bars, or grub on Lok-Lok and maybe sample Sarawak\\'s home grown Gula Apong ice cream while strolling down Kuching Waterfront.\",Kyushigai,,\"Kyushigai 77, Jalan Ban Hock, 93100 Kuching, Sarawak\"\\r Kuching & Outskirts,Night Time,\"There\\'s an endless number of dining scenes worth visiting after dark in Kuching. Depending on your mood, you can enjoy a pint of beer at the local bars, or grub on Lok-Lok and maybe sample Sarawak\\'s home grown Gula Apong ice cream while strolling down Kuching Waterfront.\",Souvenir Shopping,\"Bring back home more than memories of your travel to Kuching with exquisite travel gifts, such as Kek Lapis Sarawak, Sarawak black pepper, artisanal handwoven products, bird\\'s nest and Instant Sarawak laksa paste. These can be found at many sourvenir shops dotting Main Bazaar @ Jalan Gambier and along India Street behind Plaza Merdeka shopping mall, as well as Sinpiao (Wisma Hua Leong, Taman Hui Sing. T: +60 82 451 894), Bau Handicraft House (Bau Town, +60 II (2510 3393), SUB Shop (Jalan Green. T: +60 III 405 8400) and Keringkam & Songket Gallery (Jalan Masjid. T: +60 13 813 7608).\",']"
      ]
     },
     "execution_count": 356,
     "metadata": {},
     "output_type": "execute_result"
    }
   ],
   "source": [
    "chunks_list"
   ]
  },
  {
   "cell_type": "code",
   "execution_count": 357,
   "id": "6d3281cd-5c61-4c7d-8634-f272ca09664c",
   "metadata": {},
   "outputs": [
    {
     "data": {
      "text/plain": [
       "[{'generated_text': '\\n        You are a highly skilled and knowledgeable assistant that performs RAG from the retrieved document chunks. \\n        Answer the user question with the help of retrieved chunks.\\n        retrieved chunks: [\\'travel_destination,itinerary_name,overview,tourist_attraction_names,tourist_attraction_description,address\\\\r Kuching & Outskirts,Foreword - Introduction,\"Welcome to Kuching: City of Unity and the beautiful capital of Sarawak. Come experience the city\\\\\\'s breadth of culture, adventure, nature, food and festival offerings and discover many aspects that make this city truly unique. Kuching\\\\\\'s cityscape is a beautiful mixture of classic Colonial Era shophouses and monuments, as well as modern high risers, contrasted with evergreen trees and shrubs lining the city streets, keeping Kuching green and pleasant. Enjoy the sights and sounds of Kuching City. Revel in its exemplary racial and religious harmony, and unity in diversity. Relish iconic cuisines, some of which are world famous. Venture further out to discover pristine nature and a world of adventures, creating precious memories that will forever be etched in your heart. Come spend a weekend in Kuching and discover extraordinary experiences. Yours truly, Dato Sri Haji Abdul Karim Rahman Hamzah Minister of Tourism, Arts & Culture Sarawak (MTAC) Five star resorts and hotels to longhouse homestays available Car Rental Available https://sarawak.travel/\",\"Fort Margherita, Cat Statue, Sarawak State Legislative Assembly\",,\\\\r Kuching & Outskirts,Kuching Self Explore,,Old Courthouse,\"Served as the city\\\\\\'s administrative centre in the late 19th century, it now houses a cafe and bar, the Ranee Museum and several venues for art and performance...\",\"Old Courthouse 7, Jalan Barrack, 93000 Kuching, Sarawak\"\\\\r Kuching & Outskirts,Kuching Self Explore,,Darul Hana Bridge,\"Pedestrian bridge known for its dynamic twisting shape that resembles the letter \\\\\\'S\\\\\\' (for Sarawak), with a viewing area & coloured night lights...\",\"Darul Hana Bridge, 93050 Kuching, Sarawak\"\\\\r Kuching & Outskirts,Kuching Self Explore,,Square Tower,,\"Jalan Gambier, Jalan Main Bazaar, 93000 Kuching, Sarawak\"\\\\r Kuching & Outskirts,Kuching Self Explore,,Floating Mosque,,\"Floating Mosque 93000 Kuching, Sarawak\"\\\\r Kuching & Outskirts,Kuching Self Explore,,Sarawak State Legislative Assembly,,\"New Sarawak State Legislative Assembly Building, Petra Jaya, 93050 Kuching, Sarawak\"\\\\r Kuching & Outskirts,Kuching Self Explore,,The Astana,,\"The Astana, Pejabat Yang di-Pertua Negeri, Petra Jaya, 93050 Kuching, Sarawak\"\\\\r Kuching & Outskirts,,,,Ride a sampan to continue to your next destination�,\\\\r Kuching & Outskirts,Kuching Self Explore,,Sarawak River Cruise,End your day with a sunset cruise!,\"Sawarak River Cruise Kuching Waterfront, 93000 Kuching, Sarawak\"\\\\r Kuching & Outskirts,Kuching Self Explore,,Islamic Heritage Museum,Learn more about historical heritage and culture of the Muslim community in Sarawak and throughout the Malay-Indonesian archipelago...,\"Sarawak Islamic Heritage Museum Jalan P. Ramlee, 93400 Kuching, Sarawak\"\\\\r Kuching & Outskirts,Kuching Self Explore,,St Thomas\\\\\\'s Cathedral,,\"St Thomas\\\\\\' Catherdral Jln McDougall, 93000 Kuching, Sarawak\"\\\\r Kuching & Outskirts,Kuching Self Explore,,Spice and textile market,\"Walk around to discover street arts, spices and textiles at the spice and textile market...\",\\\\r Kuching & Outskirts,Kuching Self Explore,,Songket & Keringkam Gallery,,\"Songket & Keringkam Gallery Jalan Masjid, 93400 Kuching, Sarawak, Malaysia\"\\\\r Kuching & Outskirts,Kuching Self Explore,,Carpenter Street,Try some banana fritters along this street. They\\\\\\'re SUPER crispy!!!\\', \\'Nature lovers and adventurers, return time and time again for its thrill in outdoor adventures, be it hiking, kayaking or cycling.\",Borneo Highlands, A perfect place for a pre-wedding photoshoot�,\"Jalan Borneo Heights, 94200, Padawan, Kuching, Sarawak\"\\\\r Kuching & Outskirts,Padawan,\"Experience ecotourism at its best in Padawan. Nature lovers and adventurers, return time and time again for its thrill in outdoor adventures, be it hiking, kayaking or cycling.\",Semadang Kayak,,\"Kampung Semadang Jalan Puncak Borneo, 94200 Kuching, Sarawak\"\\\\r Kuching & Outskirts,Padawan,\"Experience ecotourism at its best in Padawan. Nature lovers and adventurers, return time and time again for its thrill in outdoor adventures, be it hiking, kayaking or cycling.\",Bengoh Dam,An untouched mountains landscape with some of the best views that look like a scene from Jurassic World�,\"Bengoh Dam 94700 Kuching, Sarawak\"\\\\r Kuching & Outskirts,Padawan,\"Experience ecotourism at its best in Padawan. Nature lovers and adventurers, return time and time again for its thrill in outdoor adventures, be it hiking, kayaking or cycling.\",Ban Buan Kukuot Waterfall,,\"Kampung Sadir, 94700 Kuching, Sarawak\"\\\\r Kuching & Outskirts,Night Time,\"There\\\\\\'s an endless number of dining scenes worth visiting after dark in Kuching. Depending on your mood, you can enjoy a pint of beer at the local bars, or grub on Lok-Lok and maybe sample Sarawak\\\\\\'s home grown Gula Apong ice cream while strolling down Kuching Waterfront.\",Fairland Hidden Cafe,,\"Fairland Hidden Cafe No 64, Carpenter St, 93000 Kuching, Sarawak\"\\\\r Kuching & Outskirts,Night Time,\"There\\\\\\'s an endless number of dining scenes worth visiting after dark in Kuching. Depending on your mood, you can enjoy a pint of beer at the local bars, or grub on Lok-Lok and maybe sample Sarawak\\\\\\'s home grown Gula Apong ice cream while strolling down Kuching Waterfront.\",Drunk Monkey Old Street Bar,Bar hopping starts here.,\"Drunk Monkey Old Street Bar 68, Carpenter St, 93000 Kuching, Sarawak\"\\\\r Kuching & Outskirts,Night Time,\"There\\\\\\'s an endless number of dining scenes worth visiting after dark in Kuching. Depending on your mood, you can enjoy a pint of beer at the local bars, or grub on Lok-Lok and maybe sample Sarawak\\\\\\'s home grown Gula Apong ice cream while strolling down Kuching Waterfront.\",Open Air Market,Head over here to grab late night munchies.,\"Open Air Market Jalan Market, 93000 Kuching, Sarawak\"\\\\r Kuching & Outskirts,Night Time,\"There\\\\\\'s an endless number of dining scenes worth visiting after dark in Kuching. Depending on your mood, you can enjoy a pint of beer at the local bars, or grub on Lok-Lok and maybe sample Sarawak\\\\\\'s home grown Gula Apong ice cream while strolling down Kuching Waterfront.\",The Wayang,Have a drink while enjoying live music.,\"The Wayang 86A, Jalan Tabuan, 93100 Kuching, Sarawak\"\\\\r Kuching & Outskirts,Night Time,\"There\\\\\\'s an endless number of dining scenes worth visiting after dark in Kuching. Depending on your mood, you can enjoy a pint of beer at the local bars, or grub on Lok-Lok and maybe sample Sarawak\\\\\\'s home grown Gula Apong ice cream while strolling down Kuching Waterfront.\",Kyushigai,,\"Kyushigai 77, Jalan Ban Hock, 93100 Kuching, Sarawak\"\\\\r Kuching & Outskirts,Night Time,\"There\\\\\\'s an endless number of dining scenes worth visiting after dark in Kuching. Depending on your mood, you can enjoy a pint of beer at the local bars, or grub on Lok-Lok and maybe sample Sarawak\\\\\\'s home grown Gula Apong ice cream while strolling down Kuching Waterfront.\",Souvenir Shopping,\"Bring back home more than memories of your travel to Kuching with exquisite travel gifts, such as Kek Lapis Sarawak, Sarawak black pepper, artisanal handwoven products, bird\\\\\\'s nest and Instant Sarawak laksa paste.\\', \\'Whether you choose to check out crocodiles in Siburan, go caving in Serian, frogging in Matang, savour fresh seafood in Muara Tebas or hike in Bako, all these experiences are only about 40-50 minutes car ride away from Kuching city.\",Mount Matang Sri Maha Mariamman Temple,\"On a side note, visit another temple at Matang, which is just a 31 minutes\\\\\\' drive from Kuching.\",\"Mount Matang Sri Maha Mariamman Temple Kampung Matang, 93050 Kuching, Sarawak\"\\\\r Kuching & Outskirts,Adventures in Kuching,\"The outskirts of Kuching are full of magnetising attractions and thrilling adventures. Whether you choose to check out crocodiles in Siburan, go caving in Serian, frogging in Matang, savour fresh seafood in Muara Tebas or hike in Bako, all these experiences are only about 40-50 minutes car ride away from Kuching city.\",Kubah National Park,\"For frogging experience, head to Kubah National Park at night and visit the natural Frog Pond to see some of Kubah\\\\\\'s 60 frog species!\",\"Kubah National Park 93050 Kuching, Sarawak\"\\\\r Kuching & Outskirts,Adventures in Kuching,\"The outskirts of Kuching are full of magnetising attractions and thrilling adventures. Whether you choose to check out crocodiles in Siburan, go caving in Serian, frogging in Matang, savour fresh seafood in Muara Tebas or hike in Bako, all these experiences are only about 40-50 minutes car ride away from Kuching city.\",Silabur Cave,Feel the cool breeze from within Silabur cave and see its clearwaters.,\"Silabur Cave Tebakang, Serian, Sarawak\"\\\\r Kuching & Outskirts,Adventures in Kuching : Animal Lovers,,Matang Wildlife Centre,\"Visit the Matang Wildlife Centre to see Borneo\\\\\\'s majestic bird, Rhinoceros Hornbill.\",\"Matang Wildlife Centre Kampung Rayu, 93050 Kuching, Sarawak\"\\\\r Kuching & Outskirts,Adventures in Kuching :  Animal Lovers,,Jong\\\\\\'s Crocodile Farm,\"Witness crocodile feeding and check out the skull of the legendary Bujang Senang, the white-backed crocodile of Sarawak folklore at Jong\\\\\\'s Crocodile Farm.\",\"Jong\\\\\\'s Crocodile Farm Jalan Kuching - Serian, 94200 Siburan, Sarawak\"\\\\r Kuching & Outskirts,Adventures in Kuching : Animal Lovers,,Semenggoh Nature Reserve,\"Explore the perfect half-day trip experience to encounter Borneo\\\\\\'s endangered species, the Orang Utans at Semenggoh Nature Reserve.\",\"Semenggoh Nature Reserve KM 20, Borneo Highland Road 93250 Kuching, Sarawak\"\\\\r Kuching & Outskirts,Santubong,\"Just 35 minutes\\\\\\' drive away from Kuching, Santubong is well-known for its relaxing beach and stunning natural attractions. It has everything, from the rainforest-clad slopes of Mount Santubong, pristine turtle islands teeming with colourful marine life, a living museum and secluded resorts.\",Cove 55,\"Built originally as a holiday home for an Iban family, the sprawling villa is now reborn as an intimate retreat with 13 rooms, two suites and one villa. A luxurious private boutique hotel at the foot of Mount Santubong�\",\"Cove 55 93010 Kuching, Sarawak\"\\\\r Kuching & Outskirts,Santubong,\"Just 35 minutes\\\\\\' drive away from Kuching, Santubong is well-known for its relaxing beach and stunning natural attractions. It has everything, from the rainforest-clad slopes of Mount Santubong, pristine turtle islands teeming with colourful marine life, a living museum and secluded resorts.\",The Culvert,\"Outfitted with eco-friendly room designs and an array of facilities offering adventure and relaxation, the resort promises to take you  on a cultural journey of Sarawak\\\\\\'s rainforests and rejuvenate your weary soul�\",\"The Culvert Lot 285, Off Jalan Sultan Tengah, Block 2 Salak Land District, Santubong Damai, Kuching, Sarawak\"\\\\r Kuching & Outskirts,Santubong,\"Just 35 minutes\\\\\\' drive away from Kuching, Santubong is well-known for its relaxing beach and stunning natural attractions.\\', \\'Learn about the Bidayuh\\\\\\'s heritage venture into impressive limestone caves and sample delicious street food, all in Bau.\",Tasik Biru,\"Formerly a gold quarry in the 1970\\\\\\'s, this man-made lake is a perfect tourism hot spot and a good place to rest and explore...\",\"Tasik Biru 94000 Bau, Sarawak\"\\\\r Kuching & Outskirts,Bau,\"A Once a gold mining town, Bau natural environment away embodies the best of both worlds: from the hustle and bustle nature and heritage. Learn about the Bidayuh\\\\\\'s heritage venture into impressive limestone caves and sample delicious street food, all in Bau.\",Bau Handicraft House,Get yourself a variety of beautiful authentic Bidayuh handicrafts made by skilled Bidayuh artisans and learn about their arts and culture...,\"Bau Handicraft House Pekan Bay, 94000 Bay, Sarawak\"\\\\r Kuching & Outskirts,Bau,\"A Once a gold mining town, Bau natural environment away embodies the best of both worlds: from the hustle and bustle nature and heritage. Learn about the Bidayuh\\\\\\'s heritage venture into impressive limestone caves and sample delicious street food, all in Bau.\",Bung Jagoi Heritage Centre,,\"Bung Jagoi Heritage Centre Kampung Jagoi Gunong, 94000 Bau, Sarawak\"\\\\r Kuching & Outskirts,Bau,\"A Once a gold mining town, Bau natural environment away embodies the best of both worlds: from the hustle and bustle nature and heritage. Learn about the Bidayuh\\\\\\'s heritage venture into impressive limestone caves and sample delicious street food, all in Bau.\",Siniawan Night Market,\"Buzzy. evening-only spot with hawker food stalls & casual eateries on atmospheric streets. Evening, Friday - Sunday only...\",\"Siniawan Old Town 94000 Siniawan, Sarawak\"\\\\r Kuching & Outskirts,Lundu & Sematan,,Sematan Jetty,,\"Sematan Jetty 94100 Sematan, Sarawak\"\\\\r Kuching & Outskirts,Lundu & Sematan,,Local Snacks,Buy some local snacks while driving around Lundu�,\\\\r Kuching & Outskirts,Lundu & Sematan,,Roxy Sematan Canopi,A relaxing modern hotel set between the peaceful town of Sematan and the silence of Telok Melano village...,\"Lots 7, 8, 9, 44 & 45, Pueh Land, 94100 Sematan, Sarawak\"\\\\r Kuching & Outskirts,Lundu & Sematan,,Tanjung Datu National Park,\"The long stretch of clean, white sandy beaches boasting azure waters makes Lundu & Sematan a popular getaway just one hour and a half drive away from Kuching. Here, visitors will get the chance to witness Rafflesia, the largest flower in the world, camp at the unspoilt Tanjung Datu National Park and bring home some tasty locally-made keropok (snacks).\",\"Tanjung Datu National Park 79466 Lundu, Sarawak\"\\\\r Kuching & Outskirts,Lundu & Sematan,,Gunung Gading National Park,,\"Gunung Gading National Park 94500 Lundu, Sarawak\"\\\\r Kuching & Outskirts,Lundu & Sematan,,Jangkar Waterfall,\"A waterfall hidden in the rainforest behind Kampung Jantan, Biawak..\",\"Jangkar Waterfall 94500 Lundu, Sarawak\"\\\\r Kuching & Outskirts,Padawan,\"Experience ecotourism at its best in Padawan. Nature lovers and adventurers, return time and time again for its thrill in outdoor adventures, be it hiking, kayaking or cycling.\",Annah Rais Bidayuh Longhouse,\"Once you arrive at the longhouse, take a dip at the nearby hotspring...\",\"No. 9, Kupo Saba, Kampung Annah Rais Longhouse, Jalan Borneo Height, 93250 Kuching, Sarawak\"\\\\r Kuching & Outskirts,Padawan,\"Experience ecotourism at its best in Padawan. Nature lovers and adventurers, return time and time again for its thrill in outdoor adventures, be it hiking, kayaking or cycling.\",Borneo Highlands, A perfect place for a pre-wedding photoshoot�,\"Jalan Borneo Heights, 94200, Padawan, Kuching, Sarawak\"\\\\r Kuching & Outskirts,Padawan,\"Experience ecotourism at its best in Padawan.\\', \\'Depending on your mood, you can enjoy a pint of beer at the local bars, or grub on Lok-Lok and maybe sample Sarawak\\\\\\'s home grown Gula Apong ice cream while strolling down Kuching Waterfront.\",Kyushigai,,\"Kyushigai 77, Jalan Ban Hock, 93100 Kuching, Sarawak\"\\\\r Kuching & Outskirts,Night Time,\"There\\\\\\'s an endless number of dining scenes worth visiting after dark in Kuching. Depending on your mood, you can enjoy a pint of beer at the local bars, or grub on Lok-Lok and maybe sample Sarawak\\\\\\'s home grown Gula Apong ice cream while strolling down Kuching Waterfront.\",Souvenir Shopping,\"Bring back home more than memories of your travel to Kuching with exquisite travel gifts, such as Kek Lapis Sarawak, Sarawak black pepper, artisanal handwoven products, bird\\\\\\'s nest and Instant Sarawak laksa paste. These can be found at many sourvenir shops dotting Main Bazaar @ Jalan Gambier and along India Street behind Plaza Merdeka shopping mall, as well as Sinpiao (Wisma Hua Leong, Taman Hui Sing. T: +60 82 451 894), Bau Handicraft House (Bau Town, +60 II (2510 3393), SUB Shop (Jalan Green. T: +60 III 405 8400) and Keringkam & Songket Gallery (Jalan Masjid. T: +60 13 813 7608).\",\\']\\n        user_question: kuching tourist places list\\n        \\n\\n\\n</think>\\n\\n### Kuching Tourist Places List\\n\\nHere is a curated list of top tourist attractions and places to visit in Kuching, based on the provided document:\\n\\n1. **Fort Margherita**\\n   - A historical fortress offering panoramic views of the Sarawak River and the city.\\n\\n2. **Cat Statue**\\n   - Iconic statue symbolizing Kuching\\'s nickname, \"City of Cats.\"\\n\\n3. **Sarawak State Legislative Assembly**\\n   - The seat of government with stunning architecture.\\n\\n4. **Old Courthouse**\\n   - A historic building now housing cafes, museums, and cultural venues.\\n\\n5. **Darul Hana Bridge**\\n   - A pedestrian bridge with a unique \\'S\\' shape and night lighting.\\n\\n6. **Square Tower (Istana Bukit Gantang)**\\n   - A historical building with significant cultural value.\\n\\n7. **Floating Mosque**\\n   - A beautiful mosque built on a waterway, offering evening prayers by the river.\\n\\n8. **Islamic Heritage Museum**\\n   - Explore the cultural heritage of the Muslim community in Sarawak.\\n\\n9. **St. Thomas’ Cathedral**\\n   - A historic Anglican church with rich architecture.\\n\\n10. **Carpenter Street**\\n    - Known for its street art and famous banana fritters.\\n\\n11. **Sarawak River Cruise**\\n    - Experience a sunset cruise along the Sarawak River.\\n\\n12. **Padawan**\\n    - Ideal for nature lovers, offering outdoor activities like hiking and kayaking.\\n\\n13. **Kubah National Park**\\n    - A haven for nature enthusiasts with diverse ecosystems.\\n\\n14. **Semenggoh Nature Reserve**\\n    - A perfect spot to encounter Borneo\\'s endangered Orang Utans.\\n\\n15. **Matang Wildlife Centre**\\n    - Home to the Borneo Rhinoceros Hornbill and other wildlife.\\n\\n16. **Jong’s Crocodile Farm**\\n    - Visit the legendary Bujang Senang, the white-backed crocodile.\\n\\n17. **Santubong**\\n    - Known for Mount Santubong, rainforests, and beautiful resorts.\\n\\n18. **Tasik Biru**\\n    - A man-made lake offering relaxation and exploration opportunities.\\n\\n19. **Bau**\\n    - Discover Bidayuh heritage, limestone caves, and local street food.\\n\\n20. **Lundu & Sematan**\\n    - Explore beaches, national parks, and the Rafflesia plant.\\n\\n21. **Annah Rais Bidayuh Longhouse**\\n    - Experience traditional Bidayuh culture and nearby hot springs.\\n\\n22. **Night Markets and Dining**\\n    - Evening spots like the Open Air Market and Fairland Hidden Cafe for local delicacies.\\n\\n23. **Souvenir Shopping**\\n    - Bring home Sarawak\\'s specialties like Kek Lapis, black pepper, and handwoven products.\\n\\nThese attractions offer a diverse range of experiences, from cultural and historical sites to nature and adventure activities. Enjoy your trip to Kuching!'}]"
      ]
     },
     "execution_count": 357,
     "metadata": {},
     "output_type": "execute_result"
    }
   ],
   "source": [
    "prompt = f'''\n",
    "        You are a highly skilled and knowledgeable assistant that performs RAG from the retrieved document chunks. \n",
    "        Answer the user question with the help of retrieved chunks.\n",
    "        retrieved chunks: {chunks_list}\n",
    "        user_question: {user_question}\n",
    "        '''\n",
    "\n",
    "predictor.predict({\"inputs\": prompt})"
   ]
  },
  {
   "cell_type": "markdown",
   "id": "c62f8b2b-7cb7-48c1-bfdc-e3c84666c5e8",
   "metadata": {},
   "source": [
    "This snippet deletes the deployed model and its associated endpoint using the `delete_model()` and `delete_endpoint()` methods of the `predictor` object."
   ]
  },
  {
   "cell_type": "code",
   "execution_count": 358,
   "id": "9239a42b-fb9e-4367-8e2a-03944a9a9cb6",
   "metadata": {},
   "outputs": [
    {
     "data": {
      "text/html": [
       "<pre style=\"white-space:pre;overflow-x:auto;line-height:normal;font-family:Menlo,'DejaVu Sans Mono',consolas,'Courier New',monospace\"><span style=\"color: #7fbfbf; text-decoration-color: #7fbfbf\">[03/04/25 14:02:59] </span><span style=\"color: #0069ff; text-decoration-color: #0069ff; font-weight: bold\">INFO    </span> Deleting model with name:                                              <a href=\"file:///home/ec2-user/anaconda3/envs/python3/lib/python3.10/site-packages/sagemaker/session.py\" target=\"_blank\"><span style=\"color: #7f7f7f; text-decoration-color: #7f7f7f\">session.py</span></a><span style=\"color: #7f7f7f; text-decoration-color: #7f7f7f\">:</span><a href=\"file:///home/ec2-user/anaconda3/envs/python3/lib/python3.10/site-packages/sagemaker/session.py#5226\" target=\"_blank\"><span style=\"color: #7f7f7f; text-decoration-color: #7f7f7f\">5226</span></a>\n",
       "<span style=\"color: #7fbfbf; text-decoration-color: #7fbfbf\">                    </span>         huggingface-pytorch-tgi-inference-<span style=\"color: #008080; text-decoration-color: #008080; font-weight: bold\">2025</span>-03-04-13-47-30-825              <span style=\"color: #7f7f7f; text-decoration-color: #7f7f7f\">               </span>\n",
       "</pre>\n"
      ],
      "text/plain": [
       "\u001b[2;36m[03/04/25 14:02:59]\u001b[0m\u001b[2;36m \u001b[0m\u001b[1;38;2;0;105;255mINFO    \u001b[0m Deleting model with name:                                              \u001b]8;id=501951;file:///home/ec2-user/anaconda3/envs/python3/lib/python3.10/site-packages/sagemaker/session.py\u001b\\\u001b[2msession.py\u001b[0m\u001b]8;;\u001b\\\u001b[2m:\u001b[0m\u001b]8;id=73446;file:///home/ec2-user/anaconda3/envs/python3/lib/python3.10/site-packages/sagemaker/session.py#5226\u001b\\\u001b[2m5226\u001b[0m\u001b]8;;\u001b\\\n",
       "\u001b[2;36m                    \u001b[0m         huggingface-pytorch-tgi-inference-\u001b[1;36m2025\u001b[0m-03-04-13-47-30-825              \u001b[2m               \u001b[0m\n"
      ]
     },
     "metadata": {},
     "output_type": "display_data"
    },
    {
     "data": {
      "text/html": [
       "<pre style=\"white-space:pre;overflow-x:auto;line-height:normal;font-family:Menlo,'DejaVu Sans Mono',consolas,'Courier New',monospace\"><span style=\"color: #7fbfbf; text-decoration-color: #7fbfbf\">                    </span><span style=\"color: #0069ff; text-decoration-color: #0069ff; font-weight: bold\">INFO    </span> Deleting endpoint configuration with name: deepseek-v1                 <a href=\"file:///home/ec2-user/anaconda3/envs/python3/lib/python3.10/site-packages/sagemaker/session.py\" target=\"_blank\"><span style=\"color: #7f7f7f; text-decoration-color: #7f7f7f\">session.py</span></a><span style=\"color: #7f7f7f; text-decoration-color: #7f7f7f\">:</span><a href=\"file:///home/ec2-user/anaconda3/envs/python3/lib/python3.10/site-packages/sagemaker/session.py#4865\" target=\"_blank\"><span style=\"color: #7f7f7f; text-decoration-color: #7f7f7f\">4865</span></a>\n",
       "</pre>\n"
      ],
      "text/plain": [
       "\u001b[2;36m                   \u001b[0m\u001b[2;36m \u001b[0m\u001b[1;38;2;0;105;255mINFO    \u001b[0m Deleting endpoint configuration with name: deepseek-v1                 \u001b]8;id=307552;file:///home/ec2-user/anaconda3/envs/python3/lib/python3.10/site-packages/sagemaker/session.py\u001b\\\u001b[2msession.py\u001b[0m\u001b]8;;\u001b\\\u001b[2m:\u001b[0m\u001b]8;id=564444;file:///home/ec2-user/anaconda3/envs/python3/lib/python3.10/site-packages/sagemaker/session.py#4865\u001b\\\u001b[2m4865\u001b[0m\u001b]8;;\u001b\\\n"
      ]
     },
     "metadata": {},
     "output_type": "display_data"
    },
    {
     "data": {
      "text/html": [
       "<pre style=\"white-space:pre;overflow-x:auto;line-height:normal;font-family:Menlo,'DejaVu Sans Mono',consolas,'Courier New',monospace\"><span style=\"color: #7fbfbf; text-decoration-color: #7fbfbf\">                    </span><span style=\"color: #0069ff; text-decoration-color: #0069ff; font-weight: bold\">INFO    </span> Deleting endpoint with name: deepseek-v1                               <a href=\"file:///home/ec2-user/anaconda3/envs/python3/lib/python3.10/site-packages/sagemaker/session.py\" target=\"_blank\"><span style=\"color: #7f7f7f; text-decoration-color: #7f7f7f\">session.py</span></a><span style=\"color: #7f7f7f; text-decoration-color: #7f7f7f\">:</span><a href=\"file:///home/ec2-user/anaconda3/envs/python3/lib/python3.10/site-packages/sagemaker/session.py#4855\" target=\"_blank\"><span style=\"color: #7f7f7f; text-decoration-color: #7f7f7f\">4855</span></a>\n",
       "</pre>\n"
      ],
      "text/plain": [
       "\u001b[2;36m                   \u001b[0m\u001b[2;36m \u001b[0m\u001b[1;38;2;0;105;255mINFO    \u001b[0m Deleting endpoint with name: deepseek-v1                               \u001b]8;id=172723;file:///home/ec2-user/anaconda3/envs/python3/lib/python3.10/site-packages/sagemaker/session.py\u001b\\\u001b[2msession.py\u001b[0m\u001b]8;;\u001b\\\u001b[2m:\u001b[0m\u001b]8;id=965595;file:///home/ec2-user/anaconda3/envs/python3/lib/python3.10/site-packages/sagemaker/session.py#4855\u001b\\\u001b[2m4855\u001b[0m\u001b]8;;\u001b\\\n"
      ]
     },
     "metadata": {},
     "output_type": "display_data"
    }
   ],
   "source": [
    "predictor.delete_model()\n",
    "predictor.delete_endpoint()"
   ]
  },
  {
   "cell_type": "code",
   "execution_count": null,
   "id": "a023ba19-0b12-40ce-9fae-e729dc57cf80",
   "metadata": {},
   "outputs": [],
   "source": []
  }
 ],
 "metadata": {
  "kernelspec": {
   "display_name": "conda_python3",
   "language": "python",
   "name": "conda_python3"
  },
  "language_info": {
   "codemirror_mode": {
    "name": "ipython",
    "version": 3
   },
   "file_extension": ".py",
   "mimetype": "text/x-python",
   "name": "python",
   "nbconvert_exporter": "python",
   "pygments_lexer": "ipython3",
   "version": "3.10.16"
  }
 },
 "nbformat": 4,
 "nbformat_minor": 5
}
